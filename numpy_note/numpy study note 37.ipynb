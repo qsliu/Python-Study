{
 "cells": [
  {
   "cell_type": "code",
   "execution_count": 1,
   "metadata": {},
   "outputs": [],
   "source": [
    "import numpy as np"
   ]
  },
  {
   "cell_type": "code",
   "execution_count": 2,
   "metadata": {},
   "outputs": [
    {
     "name": "stdout",
     "output_type": "stream",
     "text": [
      "Help on built-in function len in module builtins:\n",
      "\n",
      "len(obj, /)\n",
      "    Return the number of items in a container.\n",
      "\n"
     ]
    }
   ],
   "source": [
    "help(len)"
   ]
  },
  {
   "cell_type": "code",
   "execution_count": 3,
   "metadata": {},
   "outputs": [],
   "source": [
    "len?"
   ]
  },
  {
   "cell_type": "code",
   "execution_count": 5,
   "metadata": {},
   "outputs": [
    {
     "name": "stdout",
     "output_type": "stream",
     "text": [
      "3\n"
     ]
    }
   ],
   "source": [
    "L = [1,2,3]\n",
    "print(len(L) )"
   ]
  },
  {
   "cell_type": "code",
   "execution_count": 6,
   "metadata": {},
   "outputs": [],
   "source": [
    "np?"
   ]
  },
  {
   "cell_type": "code",
   "execution_count": 8,
   "metadata": {},
   "outputs": [
    {
     "name": "stdout",
     "output_type": "stream",
     "text": [
      "[0, 1, 2, 3, 4, 5, 6, 7, 8, 9] ['0', '1', '2', '3', '4', '5', '6', '7', '8', '9'] [True, '2', 3, 5]\n"
     ]
    }
   ],
   "source": [
    "# data typy in numpy\n",
    "L = list(range(10))\n",
    "L1 = [str(c) for c in L]\n",
    "L2 = [True, \"2\", 3, 5]## element in list can have different data types\n",
    "print(L, L1, L2)"
   ]
  },
  {
   "cell_type": "code",
   "execution_count": 10,
   "metadata": {},
   "outputs": [
    {
     "name": "stdout",
     "output_type": "stream",
     "text": [
      "numpy array A is:  array('i', [0, 1, 2, 3, 4, 5, 6, 7, 8, 9])\n",
      "List L is:  [0, 1, 2, 3, 4, 5, 6, 7, 8, 9]\n",
      "Integer Array:  [1 3 5 6]\n",
      "Float Array:   [1.1 3.  5.  6. ]\n",
      "Float Array:   [0. 1. 2. 3. 4. 5. 6. 7. 8. 9.]\n"
     ]
    }
   ],
   "source": [
    "# fixed data-type in array of numpy\n",
    "import array\n",
    "A = array.array('i', L)\n",
    "print ('numpy array A is: ', A)\n",
    "print ('List L is: ', L)\n",
    "\n",
    "# integer array\n",
    "print ('Integer Array: ', np.array([1, 3, 5, 6]))\n",
    "\n",
    "# float array\n",
    "print ('Float Array:  ', np.array([1.1, 3, 5, 6]))\n",
    "print ('Float Array:  ', np.array(L, dtype = 'float32'))"
   ]
  },
  {
   "cell_type": "code",
   "execution_count": 11,
   "metadata": {},
   "outputs": [
    {
     "name": "stdout",
     "output_type": "stream",
     "text": [
      "Array a1 is: \n",
      " [[ 4  5  6]\n",
      " [ 7  8  9]\n",
      " [ 9 10 11]]\n",
      "(3, 3)\n",
      "the first row  [4 5 6]\n",
      "the first column  [4 7 9]\n",
      "the last row  [ 9 10 11]\n",
      "the last column  [ 6  9 11]\n"
     ]
    }
   ],
   "source": [
    "# nested lists result in multidimensional arrays\n",
    "a1 = np.array([range(i, i+3) for i in [4, 7, 9]])\n",
    "print ('Array a1 is: \\n', a1)\n",
    "print (a1.shape)\n",
    "print ('the first row ', a1[0])\n",
    "print ('the first column ', a1[:,0])\n",
    "print ('the last row ', a1[-1])\n",
    "print ('the last column ', a1[:, -1])"
   ]
  },
  {
   "cell_type": "code",
   "execution_count": 12,
   "metadata": {},
   "outputs": [
    {
     "name": "stdout",
     "output_type": "stream",
     "text": [
      "[0 0 0 0 0 0 0 0 0 0] \n",
      "\n"
     ]
    },
    {
     "data": {
      "text/plain": [
       "array([0, 0, 0, 0, 0, 0, 0, 0, 0, 0])"
      ]
     },
     "execution_count": 12,
     "metadata": {},
     "output_type": "execute_result"
    }
   ],
   "source": [
    "# creating numpy array from scratch\n",
    "\n",
    "# create 1-dimension array with 10 zeros\n",
    "myzeros = np.zeros(10, dtype = int)\n",
    "print (myzeros, '\\n')\n",
    "\n",
    "np.zeros(10, dtype = int)"
   ]
  },
  {
   "cell_type": "code",
   "execution_count": 13,
   "metadata": {},
   "outputs": [
    {
     "name": "stdout",
     "output_type": "stream",
     "text": [
      "[[1. 1. 1. 1. 1.]\n",
      " [1. 1. 1. 1. 1.]\n",
      " [1. 1. 1. 1. 1.]] \n",
      "\n"
     ]
    },
    {
     "data": {
      "text/plain": [
       "array([[1., 1., 1., 1., 1.],\n",
       "       [1., 1., 1., 1., 1.],\n",
       "       [1., 1., 1., 1., 1.]])"
      ]
     },
     "execution_count": 13,
     "metadata": {},
     "output_type": "execute_result"
    }
   ],
   "source": [
    "# create 2-dimension array with 3x5  float ones\n",
    "myones = np.ones((3, 5), dtype = float)\n",
    "print (myones, '\\n')\n",
    "\n",
    "np.ones((3, 5), dtype = float)"
   ]
  },
  {
   "cell_type": "code",
   "execution_count": 14,
   "metadata": {},
   "outputs": [
    {
     "name": "stdout",
     "output_type": "stream",
     "text": [
      "[[3.14 3.14 3.14 3.14 3.14]\n",
      " [3.14 3.14 3.14 3.14 3.14]\n",
      " [3.14 3.14 3.14 3.14 3.14]] \n",
      "\n"
     ]
    },
    {
     "data": {
      "text/plain": [
       "array([[3.14, 3.14, 3.14, 3.14, 3.14],\n",
       "       [3.14, 3.14, 3.14, 3.14, 3.14],\n",
       "       [3.14, 3.14, 3.14, 3.14, 3.14]])"
      ]
     },
     "execution_count": 14,
     "metadata": {},
     "output_type": "execute_result"
    }
   ],
   "source": [
    "# create a 3x5 array filled with 3.14\n",
    "mypi = np.full((3, 5), 3.14)\n",
    "print (mypi, '\\n')\n",
    "\n",
    "np.full((3, 5), 3.14)"
   ]
  },
  {
   "cell_type": "code",
   "execution_count": 15,
   "metadata": {},
   "outputs": [
    {
     "name": "stdout",
     "output_type": "stream",
     "text": [
      "np.arange(0, 20, 2) is \n",
      " [ 0  2  4  6  8 10 12 14 16 18]\n",
      "shape is \t (10,) \n",
      "\n"
     ]
    },
    {
     "data": {
      "text/plain": [
       "array([ 0,  2,  4,  6,  8, 10, 12, 14, 16, 18])"
      ]
     },
     "execution_count": 15,
     "metadata": {},
     "output_type": "execute_result"
    }
   ],
   "source": [
    "# create an array filled with a linear sequence in range [0, 20), step-size = 2\n",
    "# this is similar to range()\n",
    "myRangeArr = np.arange(0, 20, 2)\n",
    "print ('np.arange(0, 20, 2) is \\n', myRangeArr)\n",
    "print ('shape is \\t', myRangeArr.shape, '\\n')\n",
    "\n",
    "np.arange(0, 20, 2)"
   ]
  },
  {
   "cell_type": "code",
   "execution_count": 16,
   "metadata": {},
   "outputs": [
    {
     "name": "stdout",
     "output_type": "stream",
     "text": [
      "range(0, 20, 2) is \n",
      " range(0, 20, 2)\n",
      "length of list is \t 10 \n",
      "\n"
     ]
    },
    {
     "data": {
      "text/plain": [
       "range(0, 20, 2)"
      ]
     },
     "execution_count": 16,
     "metadata": {},
     "output_type": "execute_result"
    }
   ],
   "source": [
    "print ('range(0, 20, 2) is \\n', range(0, 20, 2))\n",
    "print ('length of list is \\t', len(range(0, 20, 2)), '\\n')\n",
    "\n",
    "range(0, 20, 2)"
   ]
  },
  {
   "cell_type": "code",
   "execution_count": 17,
   "metadata": {},
   "outputs": [
    {
     "name": "stdout",
     "output_type": "stream",
     "text": [
      "np.linspace(0, 1, 5) is \n",
      " [0.   0.25 0.5  0.75 1.  ]\n",
      "\n",
      "\n"
     ]
    },
    {
     "data": {
      "text/plain": [
       "array([0.        , 0.11111111, 0.22222222, 0.33333333, 0.44444444,\n",
       "       0.55555556, 0.66666667, 0.77777778, 0.88888889, 1.        ])"
      ]
     },
     "execution_count": 17,
     "metadata": {},
     "output_type": "execute_result"
    }
   ],
   "source": [
    "# create an array of 5 values evenly spaced between 0 and 1\n",
    "print ('np.linspace(0, 1, 5) is \\n', np.linspace(0, 1, 5))\n",
    "print ('\\n')\n",
    "\n",
    "np.linspace(0, 1, 10)"
   ]
  },
  {
   "cell_type": "code",
   "execution_count": 18,
   "metadata": {},
   "outputs": [
    {
     "data": {
      "text/plain": [
       "array([[0.3306203 , 0.11383595, 0.27148394],\n",
       "       [0.36078527, 0.02983777, 0.57729848],\n",
       "       [0.49078413, 0.12063836, 0.50062419]])"
      ]
     },
     "execution_count": 18,
     "metadata": {},
     "output_type": "execute_result"
    }
   ],
   "source": [
    "# create a 3x3 array of uniform distributed random values between 0 and 1\n",
    "np.random.random((3,3))"
   ]
  },
  {
   "cell_type": "code",
   "execution_count": 19,
   "metadata": {},
   "outputs": [
    {
     "data": {
      "text/plain": [
       "array([[ 1.55683291, -0.68741446,  0.6315123 ,  0.64297329],\n",
       "       [ 0.51802468,  0.46777536,  2.00461784,  0.31238579],\n",
       "       [-0.57513514,  0.33270312,  0.69895495,  1.14283339]])"
      ]
     },
     "execution_count": 19,
     "metadata": {},
     "output_type": "execute_result"
    }
   ],
   "source": [
    "# create a 3x4 array of normal distributed random values with mean = 0, standard deviation = 1\n",
    "np.random.normal(0, 1, (3,4))"
   ]
  },
  {
   "cell_type": "code",
   "execution_count": 20,
   "metadata": {},
   "outputs": [
    {
     "data": {
      "text/plain": [
       "array([[7, 9, 5, 6],\n",
       "       [2, 5, 4, 1],\n",
       "       [0, 0, 0, 4]])"
      ]
     },
     "execution_count": 20,
     "metadata": {},
     "output_type": "execute_result"
    }
   ],
   "source": [
    "# create a 3x4 array of random integers in the interval [0, 10)\n",
    "np.random.randint(0, 10, (3,4))"
   ]
  },
  {
   "cell_type": "code",
   "execution_count": 21,
   "metadata": {},
   "outputs": [
    {
     "data": {
      "text/plain": [
       "array([[1., 0., 0.],\n",
       "       [0., 1., 0.],\n",
       "       [0., 0., 1.]])"
      ]
     },
     "execution_count": 21,
     "metadata": {},
     "output_type": "execute_result"
    }
   ],
   "source": [
    "## create a 3x3 identity matrix\n",
    "n = 3\n",
    "np.eye(n)"
   ]
  },
  {
   "cell_type": "code",
   "execution_count": 22,
   "metadata": {},
   "outputs": [
    {
     "name": "stdout",
     "output_type": "stream",
     "text": [
      "np.empty(3) is \n",
      " [1. 1. 1.] \n",
      "\n",
      "np.empty(3, dtype = int) is \n",
      " [16843009 16843009 16843009] \n",
      "\n",
      "np.empty(3, dtype = 'float32') is \n",
      " [2.3694278e-38 2.3694278e-38 2.3694278e-38] \n",
      "\n"
     ]
    },
    {
     "data": {
      "text/plain": [
       "array([[1.55683291, 0.68741446, 0.6315123 , 0.64297329],\n",
       "       [0.51802468, 0.46777536, 2.00461784, 0.31238579],\n",
       "       [0.57513514, 0.33270312, 0.69895495, 1.14283339]])"
      ]
     },
     "execution_count": 22,
     "metadata": {},
     "output_type": "execute_result"
    }
   ],
   "source": [
    "## create an uninitialized array with 3 integers\n",
    "## the values will be whatever happens to already exist at that memory locaiton\n",
    "print ('np.empty(3) is \\n', np.empty(3), '\\n')\n",
    "print ('np.empty(3, dtype = int) is \\n' , np.empty(3, dtype = int), '\\n')\n",
    "print ('np.empty(3, dtype = \\'float32\\') is \\n', np.empty(3, dtype = 'float32'), '\\n')\n",
    "\n",
    "np.empty((3,4))"
   ]
  },
  {
   "cell_type": "code",
   "execution_count": 23,
   "metadata": {},
   "outputs": [
    {
     "data": {
      "text/plain": [
       "array([0, 0, 0, 0, 0], dtype=int8)"
      ]
     },
     "execution_count": 23,
     "metadata": {},
     "output_type": "execute_result"
    }
   ],
   "source": [
    "np.zeros(5, dtype = 'int8')"
   ]
  },
  {
   "cell_type": "code",
   "execution_count": 24,
   "metadata": {},
   "outputs": [
    {
     "data": {
      "text/plain": [
       "array([0, 0, 0, 0, 0], dtype=int16)"
      ]
     },
     "execution_count": 24,
     "metadata": {},
     "output_type": "execute_result"
    }
   ],
   "source": [
    "np.zeros(5, dtype = 'int16')"
   ]
  },
  {
   "cell_type": "code",
   "execution_count": 25,
   "metadata": {},
   "outputs": [
    {
     "data": {
      "text/plain": [
       "array([0, 0, 0, 0, 0])"
      ]
     },
     "execution_count": 25,
     "metadata": {},
     "output_type": "execute_result"
    }
   ],
   "source": [
    "np.zeros(5, dtype = 'int32')"
   ]
  },
  {
   "cell_type": "code",
   "execution_count": 26,
   "metadata": {},
   "outputs": [
    {
     "data": {
      "text/plain": [
       "array([0, 0, 0, 0, 0], dtype=int64)"
      ]
     },
     "execution_count": 26,
     "metadata": {},
     "output_type": "execute_result"
    }
   ],
   "source": [
    "np.zeros(5, dtype = 'int64')"
   ]
  },
  {
   "cell_type": "code",
   "execution_count": 27,
   "metadata": {},
   "outputs": [
    {
     "data": {
      "text/plain": [
       "array([0, 0, 0, 0, 0])"
      ]
     },
     "execution_count": 27,
     "metadata": {},
     "output_type": "execute_result"
    }
   ],
   "source": [
    "np.zeros(5, dtype = np.int)"
   ]
  },
  {
   "cell_type": "code",
   "execution_count": 28,
   "metadata": {},
   "outputs": [
    {
     "data": {
      "text/plain": [
       "array([0., 0., 0., 0., 0.])"
      ]
     },
     "execution_count": 28,
     "metadata": {},
     "output_type": "execute_result"
    }
   ],
   "source": [
    "np.zeros(5, dtype = float)"
   ]
  },
  {
   "cell_type": "code",
   "execution_count": 29,
   "metadata": {},
   "outputs": [
    {
     "data": {
      "text/plain": [
       "array([0., 0., 0., 0., 0.])"
      ]
     },
     "execution_count": 29,
     "metadata": {},
     "output_type": "execute_result"
    }
   ],
   "source": [
    "np.zeros(5, dtype = np.float)"
   ]
  },
  {
   "cell_type": "code",
   "execution_count": 30,
   "metadata": {},
   "outputs": [
    {
     "data": {
      "text/plain": [
       "array([1., 1., 1., 1., 1.])"
      ]
     },
     "execution_count": 30,
     "metadata": {},
     "output_type": "execute_result"
    }
   ],
   "source": [
    "np.ones(5, dtype = 'float_')"
   ]
  },
  {
   "cell_type": "code",
   "execution_count": 31,
   "metadata": {},
   "outputs": [
    {
     "data": {
      "text/plain": [
       "array([1., 1., 1., 1., 1.])"
      ]
     },
     "execution_count": 31,
     "metadata": {},
     "output_type": "execute_result"
    }
   ],
   "source": [
    "np.ones(5, dtype = 'float64')"
   ]
  },
  {
   "cell_type": "code",
   "execution_count": 32,
   "metadata": {},
   "outputs": [
    {
     "name": "stdout",
     "output_type": "stream",
     "text": [
      "x1 is \n",
      " [5 0 3 3 7 9] \n",
      "\n",
      "x2 is \n",
      " [[13 15 12 14 17]\n",
      " [16 18 18 11 16]\n",
      " [17 17 18 11 15]] \n",
      "\n",
      "x3 is \n",
      " [[[19 18 19 14 13]\n",
      "  [10 13 15 10 12]\n",
      "  [13 18 11 13 13]]\n",
      "\n",
      " [[13 17 10 11 19]\n",
      "  [19 10 14 17 13]\n",
      "  [12 17 12 10 10]]] \n",
      "\n",
      "x1 dimension is \t 1\n",
      "x3 dimension is \t 3\n",
      "x3 shape is \t (2, 3, 5)\n",
      "x3 size is \t 30\n",
      "x3 data type is \t int32\n",
      "x3 item size is \t 4 bytes\n",
      "x3 nbytes is \t 120 bytes\n"
     ]
    }
   ],
   "source": [
    "# create multiple random values with the same seed\n",
    "np.random.seed(0)\n",
    "\n",
    "x1 = np.random.randint(10, size = 6)      # create random integer in range [0, 10)\n",
    "x2 = np.random.randint(10, 20, size = (3, 5))  # create random integer in range [10, 20)\n",
    "x3 = np.random.randint(10, 20, size = (2, 3, 5))\n",
    "\n",
    "print ('x1 is \\n', x1, '\\n')\n",
    "print ('x2 is \\n', x2, '\\n')\n",
    "print ('x3 is \\n', x3, '\\n')\n",
    "print ('x1 dimension is \\t', x1.ndim)\n",
    "print ('x3 dimension is \\t', x3.ndim)\n",
    "print ('x3 shape is \\t', x3.shape)\n",
    "print ('x3 size is \\t', x3.size)\n",
    "print ('x3 data type is \\t', x3.dtype)\n",
    "print ('x3 item size is \\t', x3.itemsize, 'bytes')\n",
    "print ('x3 nbytes is \\t', x3.nbytes, 'bytes')"
   ]
  },
  {
   "cell_type": "code",
   "execution_count": 33,
   "metadata": {},
   "outputs": [],
   "source": [
    "# get help of this fucntion\n",
    "? np.random.randint"
   ]
  },
  {
   "cell_type": "code",
   "execution_count": 34,
   "metadata": {},
   "outputs": [
    {
     "name": "stdout",
     "output_type": "stream",
     "text": [
      "x3[0] is \n",
      " [[19 18 19 14 13]\n",
      " [10 13 15 10 12]\n",
      " [13 18 11 13 13]] \n",
      "\n",
      "x3[0, 0] is \n",
      " [19 18 19 14 13] \n",
      "\n",
      "x3[0, 0, 0] is \n",
      " 19 \n",
      "\n"
     ]
    }
   ],
   "source": [
    "# array indexing\n",
    "print ('x3[0] is \\n', x3[0], '\\n')\n",
    "print ('x3[0, 0] is \\n', x3[0, 0], '\\n')\n",
    "print ('x3[0, 0, 0] is \\n', x3[0, 0, 0], '\\n')"
   ]
  },
  {
   "cell_type": "code",
   "execution_count": 35,
   "metadata": {},
   "outputs": [
    {
     "name": "stdout",
     "output_type": "stream",
     "text": [
      "x is \t [ 0  1  2  3  4  5  6  7  8  9 10] \n",
      "\n",
      "x[:5] is \t [0 1 2 3 4] \n",
      "\n",
      "x[2:5] is \t [2 3 4] \n",
      "\n",
      "x[::2] is \t [ 0  2  4  6  8 10] \n",
      "\n",
      "x[1::2] is \t [1 3 5 7 9] \n",
      "\n",
      "x[::-1] is \t [10  9  8  7  6  5  4  3  2  1  0] \n",
      "\n",
      "x[6::-1] is \t [6 5 4 3 2 1 0] \n",
      "\n",
      "x[6::-2] is \t [6 4 2 0] \n",
      "\n"
     ]
    }
   ],
   "source": [
    "# array slicing: access  subarrays  x[start: stop: step]\n",
    "x  = np.arange(11)    # return array with elements in range [0, 10), step-size = 1 (default)\n",
    "? np.arange\n",
    "\n",
    "print ('x is \\t', x, '\\n')\n",
    "print ('x[:5] is \\t', x[:5], '\\n' )    #  x[:n] = subarray of x with index less than n\n",
    "print ('x[2:5] is \\t', x[2:5], '\\n' )  #  x[m:n] = subarray of x with start-index = m, and end-index <n\n",
    "print ('x[::2] is \\t', x[::2], '\\n' )  #  x[0: x.size: 2]\n",
    "\n",
    "print ('x[1::2] is \\t', x[1::2], '\\n')   #  x[1: x.size: 2]\n",
    "\n",
    "# reverse the array using negative index\n",
    "print ('x[::-1] is \\t', x[::-1], '\\n' )     # reverse the array\n",
    "print ('x[6::-1] is \\t', x[6::-1], '\\n' )      # reverse the subarray with index <=6 in x\n",
    "print ('x[6::-2] is \\t', x[6::-2], '\\n' )      # reverse the subarray with index <=6 in x"
   ]
  },
  {
   "cell_type": "code",
   "execution_count": 211,
   "metadata": {},
   "outputs": [
    {
     "name": "stdout",
     "output_type": "stream",
     "text": [
      "x2 is \n",
      "[[13 15 12 14 17]\n",
      " [16 18 18 11 16]\n",
      " [17 17 18 11 15]] \n",
      "\n",
      "x2 shape is \t(3L, 5L) \t dimension is \t2 \t size is \t15 \n",
      "\n",
      "x2[:2, :3] is \n",
      "[[13 15 12]\n",
      " [16 18 18]] \n",
      "\n",
      "x2[:2, :] is \n",
      "[[13 15 12 14 17]\n",
      " [16 18 18 11 16]] \n",
      "\n",
      "x2[:3, ::2] is \n",
      "[[13 12 17]\n",
      " [16 18 16]\n",
      " [17 18 15]] \n",
      "\n",
      "x2[::-1, ::-2] is \n",
      "[[15 18 17]\n",
      " [16 18 16]\n",
      " [17 12 13]] \n",
      "\n",
      "x2[0] is \t[13 15 12 14 17] \n",
      "\n",
      "x2[0, :] is \t[13 15 12 14 17] \n",
      "\n"
     ]
    }
   ],
   "source": [
    "# slice of  multi-dimensional array\n",
    "print 'x2 is \\n', x2, '\\n'\n",
    "print 'x2 shape is \\t', x2.shape, '\\t dimension is \\t', x2.ndim, '\\t size is \\t', x2.size, '\\n'\n",
    "\n",
    "print 'x2[:2, :3] is \\n', x2[:2, :3], '\\n'\n",
    "print 'x2[:2, :] is \\n', x2[:2, :], '\\n'\n",
    "print 'x2[:3, ::2] is \\n', x2[:3, ::2], '\\n'   # row index is 0,1, 2, and column index is 0,2,4\n",
    "print 'x2[::-1, ::-2] is \\n', x2[::-1,::-2], '\\n'  # reverse sub-array\n",
    "print 'x2[0] is \\t', x2[0], '\\n'\n",
    "print 'x2[0, :] is \\t', x2[0, :], '\\n'"
   ]
  },
  {
   "cell_type": "code",
   "execution_count": 36,
   "metadata": {},
   "outputs": [
    {
     "name": "stdout",
     "output_type": "stream",
     "text": [
      "x2_sub is \n",
      " [[13 15 12]\n",
      " [16 18 18]] \n",
      "\n",
      "x2_sub[0] is \t [13 15 12] \n",
      "\n",
      "x2_sub[0][0] is \t 13 \n",
      "\n",
      "x2_sub[0, 0] is \t 13 \n",
      "\n"
     ]
    },
    {
     "data": {
      "text/plain": [
       "array([[13, 15, 12, 14, 17],\n",
       "       [16, 18, 18, 11, 16],\n",
       "       [17, 17, 18, 11, 15]])"
      ]
     },
     "execution_count": 36,
     "metadata": {},
     "output_type": "execute_result"
    }
   ],
   "source": [
    "x2_sub = x2[:2, :3]\n",
    "print ('x2_sub is \\n', x2_sub, '\\n')\n",
    "print ('x2_sub[0] is \\t', x2_sub[0], '\\n')\n",
    "print ('x2_sub[0][0] is \\t', x2_sub[0][0], '\\n')\n",
    "print ('x2_sub[0, 0] is \\t', x2_sub[0, 0], '\\n')\n",
    "x2"
   ]
  },
  {
   "cell_type": "code",
   "execution_count": 37,
   "metadata": {},
   "outputs": [
    {
     "name": "stdout",
     "output_type": "stream",
     "text": [
      "x2_sub is \n",
      " [[99 15 12]\n",
      " [16 18 18]] \n",
      "\n",
      "x2 is \n",
      " [[99 15 12 14 17]\n",
      " [16 18 18 11 16]\n",
      " [17 17 18 11 15]] \n",
      "\n"
     ]
    }
   ],
   "source": [
    "x2_sub[0, 0 ] = 99\n",
    "print ('x2_sub is \\n', x2_sub, '\\n')\n",
    "print ('x2 is \\n', x2, '\\n')"
   ]
  },
  {
   "cell_type": "code",
   "execution_count": 41,
   "metadata": {},
   "outputs": [
    {
     "name": "stdout",
     "output_type": "stream",
     "text": [
      "x2_sub_copy is \n",
      " [[99 15]\n",
      " [16 18]] \n",
      "\n",
      "x2_sub_copy is \n",
      " [[129  15]\n",
      " [ 16  18]] \n",
      "\n",
      "x2 is \n",
      " [[99 15 12 14 17]\n",
      " [16 18 18 11 16]\n",
      " [17 17 18 11 15]] \n",
      "\n"
     ]
    }
   ],
   "source": [
    "# creating copies of array: copy() method\n",
    "x2_sub_copy = x2[:2, :2].copy()\n",
    "print('x2_sub_copy is \\n', x2_sub_copy, '\\n')\n",
    "\n",
    "x2_sub_copy[0][0] = 129    # change the element in copy of array will not affect the original array\n",
    "print('x2_sub_copy is \\n', x2_sub_copy, '\\n')\n",
    "print('x2 is \\n', x2, '\\n')\n"
   ]
  },
  {
   "cell_type": "code",
   "execution_count": 49,
   "metadata": {},
   "outputs": [
    {
     "data": {
      "text/plain": [
       "array([[1, 2, 3],\n",
       "       [4, 5, 6],\n",
       "       [7, 8, 9]])"
      ]
     },
     "execution_count": 49,
     "metadata": {},
     "output_type": "execute_result"
    }
   ],
   "source": [
    "# reshaping of arrays: reshape()  method\n",
    "# Note: the size of the initial array must match the size of the reshaped array. \n",
    "np.arange(1, 10).reshape(3,3)"
   ]
  },
  {
   "cell_type": "code",
   "execution_count": 73,
   "metadata": {},
   "outputs": [
    {
     "name": "stdout",
     "output_type": "stream",
     "text": [
      "y = x.reshape((1,3)) is \n",
      " [[1 2 3]] \n",
      "\n",
      "y[0] is \t [1 2 3]\n",
      "x is \t [1 2 3] \n",
      "\n",
      "x[0] is \t 1\n",
      "\n",
      "\n",
      "y1 = x[np.newaxis, :] is \n",
      " [[1 2 3]]\n",
      "y1.shape is \t (1, 3)\n"
     ]
    }
   ],
   "source": [
    "x = np.array([1,2, 3])\n",
    "y = x.reshape((1,3))\n",
    "y1 = x[np.newaxis, :]\n",
    "\n",
    "print('y = x.reshape((1,3)) is \\n', y, '\\n')\n",
    "print('y[0] is \\t', y[0])\n",
    "print('x is \\t', x, '\\n')\n",
    "print('x[0] is \\t', x[0])\n",
    "\n",
    "print('\\n')\n",
    "print('y1 = x[np.newaxis, :] is \\n', y1)\n",
    "print('y1.shape is \\t', y1.shape)"
   ]
  },
  {
   "cell_type": "code",
   "execution_count": 71,
   "metadata": {},
   "outputs": [
    {
     "data": {
      "text/plain": [
       "array([[1],\n",
       "       [2],\n",
       "       [3]])"
      ]
     },
     "execution_count": 71,
     "metadata": {},
     "output_type": "execute_result"
    }
   ],
   "source": [
    "x.reshape((3,1))"
   ]
  },
  {
   "cell_type": "code",
   "execution_count": 82,
   "metadata": {},
   "outputs": [
    {
     "data": {
      "text/plain": [
       "array([[[1, 2],\n",
       "        [3, 5]]])"
      ]
     },
     "execution_count": 82,
     "metadata": {},
     "output_type": "execute_result"
    }
   ],
   "source": [
    "np.array([1, 2, 3, 5]).reshape((2,2))[np.newaxis, :]"
   ]
  },
  {
   "cell_type": "code",
   "execution_count": 85,
   "metadata": {},
   "outputs": [
    {
     "data": {
      "text/plain": [
       "array([[[1, 2],\n",
       "        [3, 5]]])"
      ]
     },
     "execution_count": 85,
     "metadata": {},
     "output_type": "execute_result"
    }
   ],
   "source": [
    "np.array([1, 2, 3, 5]).reshape((2,2))[np.newaxis, :, :]"
   ]
  },
  {
   "cell_type": "code",
   "execution_count": 87,
   "metadata": {},
   "outputs": [
    {
     "data": {
      "text/plain": [
       "(2, 1, 2)"
      ]
     },
     "execution_count": 87,
     "metadata": {},
     "output_type": "execute_result"
    }
   ],
   "source": [
    "np.array([1, 2, 3, 5]).reshape((2,2))[:, np.newaxis, :].shape"
   ]
  },
  {
   "cell_type": "code",
   "execution_count": 89,
   "metadata": {},
   "outputs": [
    {
     "data": {
      "text/plain": [
       "(2, 2, 1)"
      ]
     },
     "execution_count": 89,
     "metadata": {},
     "output_type": "execute_result"
    }
   ],
   "source": [
    "np.array([1, 2, 3, 5]).reshape((2,2))[:, :, np.newaxis].shape"
   ]
  },
  {
   "cell_type": "code",
   "execution_count": null,
   "metadata": {},
   "outputs": [],
   "source": [
    "# concanate array\n"
   ]
  }
 ],
 "metadata": {
  "kernelspec": {
   "display_name": "Python 3",
   "language": "python",
   "name": "python3"
  },
  "language_info": {
   "codemirror_mode": {
    "name": "ipython",
    "version": 3
   },
   "file_extension": ".py",
   "mimetype": "text/x-python",
   "name": "python",
   "nbconvert_exporter": "python",
   "pygments_lexer": "ipython3",
   "version": "3.7.2"
  }
 },
 "nbformat": 4,
 "nbformat_minor": 2
}
