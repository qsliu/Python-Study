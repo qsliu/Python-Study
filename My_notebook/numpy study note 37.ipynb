{
 "cells": [
  {
   "cell_type": "code",
   "execution_count": 1,
   "metadata": {},
   "outputs": [],
   "source": [
    "import numpy as np"
   ]
  },
  {
   "cell_type": "code",
   "execution_count": 2,
   "metadata": {},
   "outputs": [
    {
     "name": "stdout",
     "output_type": "stream",
     "text": [
      "Help on built-in function len in module builtins:\n",
      "\n",
      "len(obj, /)\n",
      "    Return the number of items in a container.\n",
      "\n"
     ]
    }
   ],
   "source": [
    "help(len)"
   ]
  },
  {
   "cell_type": "code",
   "execution_count": 3,
   "metadata": {},
   "outputs": [],
   "source": [
    "len?"
   ]
  },
  {
   "cell_type": "code",
   "execution_count": 5,
   "metadata": {},
   "outputs": [
    {
     "name": "stdout",
     "output_type": "stream",
     "text": [
      "3\n"
     ]
    }
   ],
   "source": [
    "L = [1,2,3]\n",
    "print(len(L) )"
   ]
  },
  {
   "cell_type": "code",
   "execution_count": 6,
   "metadata": {},
   "outputs": [],
   "source": [
    "np?"
   ]
  },
  {
   "cell_type": "code",
   "execution_count": 8,
   "metadata": {},
   "outputs": [
    {
     "name": "stdout",
     "output_type": "stream",
     "text": [
      "[0, 1, 2, 3, 4, 5, 6, 7, 8, 9] ['0', '1', '2', '3', '4', '5', '6', '7', '8', '9'] [True, '2', 3, 5]\n"
     ]
    }
   ],
   "source": [
    "# data typy in numpy\n",
    "L = list(range(10))\n",
    "L1 = [str(c) for c in L]\n",
    "L2 = [True, \"2\", 3, 5]## element in list can have different data types\n",
    "print(L, L1, L2)"
   ]
  },
  {
   "cell_type": "code",
   "execution_count": 10,
   "metadata": {},
   "outputs": [
    {
     "name": "stdout",
     "output_type": "stream",
     "text": [
      "numpy array A is:  array('i', [0, 1, 2, 3, 4, 5, 6, 7, 8, 9])\n",
      "List L is:  [0, 1, 2, 3, 4, 5, 6, 7, 8, 9]\n",
      "Integer Array:  [1 3 5 6]\n",
      "Float Array:   [1.1 3.  5.  6. ]\n",
      "Float Array:   [0. 1. 2. 3. 4. 5. 6. 7. 8. 9.]\n"
     ]
    }
   ],
   "source": [
    "# fixed data-type in array of numpy\n",
    "import array\n",
    "A = array.array('i', L)\n",
    "print ('numpy array A is: ', A)\n",
    "print ('List L is: ', L)\n",
    "\n",
    "# integer array\n",
    "print ('Integer Array: ', np.array([1, 3, 5, 6]))\n",
    "\n",
    "# float array\n",
    "print ('Float Array:  ', np.array([1.1, 3, 5, 6]))\n",
    "print ('Float Array:  ', np.array(L, dtype = 'float32'))"
   ]
  },
  {
   "cell_type": "code",
   "execution_count": 11,
   "metadata": {},
   "outputs": [
    {
     "name": "stdout",
     "output_type": "stream",
     "text": [
      "Array a1 is: \n",
      " [[ 4  5  6]\n",
      " [ 7  8  9]\n",
      " [ 9 10 11]]\n",
      "(3, 3)\n",
      "the first row  [4 5 6]\n",
      "the first column  [4 7 9]\n",
      "the last row  [ 9 10 11]\n",
      "the last column  [ 6  9 11]\n"
     ]
    }
   ],
   "source": [
    "# nested lists result in multidimensional arrays\n",
    "a1 = np.array([range(i, i+3) for i in [4, 7, 9]])\n",
    "print ('Array a1 is: \\n', a1)\n",
    "print (a1.shape)\n",
    "print ('the first row ', a1[0])\n",
    "print ('the first column ', a1[:,0])\n",
    "print ('the last row ', a1[-1])\n",
    "print ('the last column ', a1[:, -1])"
   ]
  },
  {
   "cell_type": "code",
   "execution_count": 12,
   "metadata": {},
   "outputs": [
    {
     "name": "stdout",
     "output_type": "stream",
     "text": [
      "[0 0 0 0 0 0 0 0 0 0] \n",
      "\n"
     ]
    },
    {
     "data": {
      "text/plain": [
       "array([0, 0, 0, 0, 0, 0, 0, 0, 0, 0])"
      ]
     },
     "execution_count": 12,
     "metadata": {},
     "output_type": "execute_result"
    }
   ],
   "source": [
    "# creating numpy array from scratch\n",
    "\n",
    "# create 1-dimension array with 10 zeros\n",
    "myzeros = np.zeros(10, dtype = int)\n",
    "print (myzeros, '\\n')\n",
    "\n",
    "np.zeros(10, dtype = int)"
   ]
  },
  {
   "cell_type": "code",
   "execution_count": 13,
   "metadata": {},
   "outputs": [
    {
     "name": "stdout",
     "output_type": "stream",
     "text": [
      "[[1. 1. 1. 1. 1.]\n",
      " [1. 1. 1. 1. 1.]\n",
      " [1. 1. 1. 1. 1.]] \n",
      "\n"
     ]
    },
    {
     "data": {
      "text/plain": [
       "array([[1., 1., 1., 1., 1.],\n",
       "       [1., 1., 1., 1., 1.],\n",
       "       [1., 1., 1., 1., 1.]])"
      ]
     },
     "execution_count": 13,
     "metadata": {},
     "output_type": "execute_result"
    }
   ],
   "source": [
    "# create 2-dimension array with 3x5  float ones\n",
    "myones = np.ones((3, 5), dtype = float)\n",
    "print (myones, '\\n')\n",
    "\n",
    "np.ones((3, 5), dtype = float)"
   ]
  },
  {
   "cell_type": "code",
   "execution_count": 14,
   "metadata": {},
   "outputs": [
    {
     "name": "stdout",
     "output_type": "stream",
     "text": [
      "[[3.14 3.14 3.14 3.14 3.14]\n",
      " [3.14 3.14 3.14 3.14 3.14]\n",
      " [3.14 3.14 3.14 3.14 3.14]] \n",
      "\n"
     ]
    },
    {
     "data": {
      "text/plain": [
       "array([[3.14, 3.14, 3.14, 3.14, 3.14],\n",
       "       [3.14, 3.14, 3.14, 3.14, 3.14],\n",
       "       [3.14, 3.14, 3.14, 3.14, 3.14]])"
      ]
     },
     "execution_count": 14,
     "metadata": {},
     "output_type": "execute_result"
    }
   ],
   "source": [
    "# create a 3x5 array filled with 3.14\n",
    "mypi = np.full((3, 5), 3.14)\n",
    "print (mypi, '\\n')\n",
    "\n",
    "np.full((3, 5), 3.14)"
   ]
  },
  {
   "cell_type": "code",
   "execution_count": 15,
   "metadata": {},
   "outputs": [
    {
     "name": "stdout",
     "output_type": "stream",
     "text": [
      "np.arange(0, 20, 2) is \n",
      " [ 0  2  4  6  8 10 12 14 16 18]\n",
      "shape is \t (10,) \n",
      "\n"
     ]
    },
    {
     "data": {
      "text/plain": [
       "array([ 0,  2,  4,  6,  8, 10, 12, 14, 16, 18])"
      ]
     },
     "execution_count": 15,
     "metadata": {},
     "output_type": "execute_result"
    }
   ],
   "source": [
    "# create an array filled with a linear sequence in range [0, 20), step-size = 2\n",
    "# this is similar to range()\n",
    "myRangeArr = np.arange(0, 20, 2)\n",
    "print ('np.arange(0, 20, 2) is \\n', myRangeArr)\n",
    "print ('shape is \\t', myRangeArr.shape, '\\n')\n",
    "\n",
    "np.arange(0, 20, 2)"
   ]
  },
  {
   "cell_type": "code",
   "execution_count": 16,
   "metadata": {},
   "outputs": [
    {
     "name": "stdout",
     "output_type": "stream",
     "text": [
      "range(0, 20, 2) is \n",
      " range(0, 20, 2)\n",
      "length of list is \t 10 \n",
      "\n"
     ]
    },
    {
     "data": {
      "text/plain": [
       "range(0, 20, 2)"
      ]
     },
     "execution_count": 16,
     "metadata": {},
     "output_type": "execute_result"
    }
   ],
   "source": [
    "print ('range(0, 20, 2) is \\n', range(0, 20, 2))\n",
    "print ('length of list is \\t', len(range(0, 20, 2)), '\\n')\n",
    "\n",
    "range(0, 20, 2)"
   ]
  },
  {
   "cell_type": "code",
   "execution_count": 17,
   "metadata": {},
   "outputs": [
    {
     "name": "stdout",
     "output_type": "stream",
     "text": [
      "np.linspace(0, 1, 5) is \n",
      " [0.   0.25 0.5  0.75 1.  ]\n",
      "\n",
      "\n"
     ]
    },
    {
     "data": {
      "text/plain": [
       "array([0.        , 0.11111111, 0.22222222, 0.33333333, 0.44444444,\n",
       "       0.55555556, 0.66666667, 0.77777778, 0.88888889, 1.        ])"
      ]
     },
     "execution_count": 17,
     "metadata": {},
     "output_type": "execute_result"
    }
   ],
   "source": [
    "# create an array of 5 values evenly spaced between 0 and 1\n",
    "print ('np.linspace(0, 1, 5) is \\n', np.linspace(0, 1, 5))\n",
    "print ('\\n')\n",
    "\n",
    "np.linspace(0, 1, 10)"
   ]
  },
  {
   "cell_type": "code",
   "execution_count": 18,
   "metadata": {},
   "outputs": [
    {
     "data": {
      "text/plain": [
       "array([[0.3306203 , 0.11383595, 0.27148394],\n",
       "       [0.36078527, 0.02983777, 0.57729848],\n",
       "       [0.49078413, 0.12063836, 0.50062419]])"
      ]
     },
     "execution_count": 18,
     "metadata": {},
     "output_type": "execute_result"
    }
   ],
   "source": [
    "# create a 3x3 array of uniform distributed random values between 0 and 1\n",
    "np.random.random((3,3))"
   ]
  },
  {
   "cell_type": "code",
   "execution_count": 19,
   "metadata": {},
   "outputs": [
    {
     "data": {
      "text/plain": [
       "array([[ 1.55683291, -0.68741446,  0.6315123 ,  0.64297329],\n",
       "       [ 0.51802468,  0.46777536,  2.00461784,  0.31238579],\n",
       "       [-0.57513514,  0.33270312,  0.69895495,  1.14283339]])"
      ]
     },
     "execution_count": 19,
     "metadata": {},
     "output_type": "execute_result"
    }
   ],
   "source": [
    "# create a 3x4 array of normal distributed random values with mean = 0, standard deviation = 1\n",
    "np.random.normal(0, 1, (3,4))"
   ]
  },
  {
   "cell_type": "code",
   "execution_count": 20,
   "metadata": {},
   "outputs": [
    {
     "data": {
      "text/plain": [
       "array([[7, 9, 5, 6],\n",
       "       [2, 5, 4, 1],\n",
       "       [0, 0, 0, 4]])"
      ]
     },
     "execution_count": 20,
     "metadata": {},
     "output_type": "execute_result"
    }
   ],
   "source": [
    "# create a 3x4 array of random integers in the interval [0, 10)\n",
    "np.random.randint(0, 10, (3,4))"
   ]
  },
  {
   "cell_type": "code",
   "execution_count": 21,
   "metadata": {},
   "outputs": [
    {
     "data": {
      "text/plain": [
       "array([[1., 0., 0.],\n",
       "       [0., 1., 0.],\n",
       "       [0., 0., 1.]])"
      ]
     },
     "execution_count": 21,
     "metadata": {},
     "output_type": "execute_result"
    }
   ],
   "source": [
    "## create a 3x3 identity matrix\n",
    "n = 3\n",
    "np.eye(n)"
   ]
  },
  {
   "cell_type": "code",
   "execution_count": 22,
   "metadata": {},
   "outputs": [
    {
     "name": "stdout",
     "output_type": "stream",
     "text": [
      "np.empty(3) is \n",
      " [1. 1. 1.] \n",
      "\n",
      "np.empty(3, dtype = int) is \n",
      " [16843009 16843009 16843009] \n",
      "\n",
      "np.empty(3, dtype = 'float32') is \n",
      " [2.3694278e-38 2.3694278e-38 2.3694278e-38] \n",
      "\n"
     ]
    },
    {
     "data": {
      "text/plain": [
       "array([[1.55683291, 0.68741446, 0.6315123 , 0.64297329],\n",
       "       [0.51802468, 0.46777536, 2.00461784, 0.31238579],\n",
       "       [0.57513514, 0.33270312, 0.69895495, 1.14283339]])"
      ]
     },
     "execution_count": 22,
     "metadata": {},
     "output_type": "execute_result"
    }
   ],
   "source": [
    "## create an uninitialized array with 3 integers\n",
    "## the values will be whatever happens to already exist at that memory locaiton\n",
    "print ('np.empty(3) is \\n', np.empty(3), '\\n')\n",
    "print ('np.empty(3, dtype = int) is \\n' , np.empty(3, dtype = int), '\\n')\n",
    "print ('np.empty(3, dtype = \\'float32\\') is \\n', np.empty(3, dtype = 'float32'), '\\n')\n",
    "\n",
    "np.empty((3,4))"
   ]
  },
  {
   "cell_type": "code",
   "execution_count": 23,
   "metadata": {},
   "outputs": [
    {
     "data": {
      "text/plain": [
       "array([0, 0, 0, 0, 0], dtype=int8)"
      ]
     },
     "execution_count": 23,
     "metadata": {},
     "output_type": "execute_result"
    }
   ],
   "source": [
    "np.zeros(5, dtype = 'int8')"
   ]
  },
  {
   "cell_type": "code",
   "execution_count": 24,
   "metadata": {},
   "outputs": [
    {
     "data": {
      "text/plain": [
       "array([0, 0, 0, 0, 0], dtype=int16)"
      ]
     },
     "execution_count": 24,
     "metadata": {},
     "output_type": "execute_result"
    }
   ],
   "source": [
    "np.zeros(5, dtype = 'int16')"
   ]
  },
  {
   "cell_type": "code",
   "execution_count": 25,
   "metadata": {},
   "outputs": [
    {
     "data": {
      "text/plain": [
       "array([0, 0, 0, 0, 0])"
      ]
     },
     "execution_count": 25,
     "metadata": {},
     "output_type": "execute_result"
    }
   ],
   "source": [
    "np.zeros(5, dtype = 'int32')"
   ]
  },
  {
   "cell_type": "code",
   "execution_count": 26,
   "metadata": {},
   "outputs": [
    {
     "data": {
      "text/plain": [
       "array([0, 0, 0, 0, 0], dtype=int64)"
      ]
     },
     "execution_count": 26,
     "metadata": {},
     "output_type": "execute_result"
    }
   ],
   "source": [
    "np.zeros(5, dtype = 'int64')"
   ]
  },
  {
   "cell_type": "code",
   "execution_count": 27,
   "metadata": {},
   "outputs": [
    {
     "data": {
      "text/plain": [
       "array([0, 0, 0, 0, 0])"
      ]
     },
     "execution_count": 27,
     "metadata": {},
     "output_type": "execute_result"
    }
   ],
   "source": [
    "np.zeros(5, dtype = np.int)"
   ]
  },
  {
   "cell_type": "code",
   "execution_count": 28,
   "metadata": {},
   "outputs": [
    {
     "data": {
      "text/plain": [
       "array([0., 0., 0., 0., 0.])"
      ]
     },
     "execution_count": 28,
     "metadata": {},
     "output_type": "execute_result"
    }
   ],
   "source": [
    "np.zeros(5, dtype = float)"
   ]
  },
  {
   "cell_type": "code",
   "execution_count": 29,
   "metadata": {},
   "outputs": [
    {
     "data": {
      "text/plain": [
       "array([0., 0., 0., 0., 0.])"
      ]
     },
     "execution_count": 29,
     "metadata": {},
     "output_type": "execute_result"
    }
   ],
   "source": [
    "np.zeros(5, dtype = np.float)"
   ]
  },
  {
   "cell_type": "code",
   "execution_count": 30,
   "metadata": {},
   "outputs": [
    {
     "data": {
      "text/plain": [
       "array([1., 1., 1., 1., 1.])"
      ]
     },
     "execution_count": 30,
     "metadata": {},
     "output_type": "execute_result"
    }
   ],
   "source": [
    "np.ones(5, dtype = 'float_')"
   ]
  },
  {
   "cell_type": "code",
   "execution_count": 31,
   "metadata": {},
   "outputs": [
    {
     "data": {
      "text/plain": [
       "array([1., 1., 1., 1., 1.])"
      ]
     },
     "execution_count": 31,
     "metadata": {},
     "output_type": "execute_result"
    }
   ],
   "source": [
    "np.ones(5, dtype = 'float64')"
   ]
  },
  {
   "cell_type": "code",
   "execution_count": 32,
   "metadata": {},
   "outputs": [
    {
     "name": "stdout",
     "output_type": "stream",
     "text": [
      "x1 is \n",
      " [5 0 3 3 7 9] \n",
      "\n",
      "x2 is \n",
      " [[13 15 12 14 17]\n",
      " [16 18 18 11 16]\n",
      " [17 17 18 11 15]] \n",
      "\n",
      "x3 is \n",
      " [[[19 18 19 14 13]\n",
      "  [10 13 15 10 12]\n",
      "  [13 18 11 13 13]]\n",
      "\n",
      " [[13 17 10 11 19]\n",
      "  [19 10 14 17 13]\n",
      "  [12 17 12 10 10]]] \n",
      "\n",
      "x1 dimension is \t 1\n",
      "x3 dimension is \t 3\n",
      "x3 shape is \t (2, 3, 5)\n",
      "x3 size is \t 30\n",
      "x3 data type is \t int32\n",
      "x3 item size is \t 4 bytes\n",
      "x3 nbytes is \t 120 bytes\n"
     ]
    }
   ],
   "source": [
    "# create multiple random values with the same seed\n",
    "np.random.seed(0)\n",
    "\n",
    "x1 = np.random.randint(10, size = 6)      # create random integer in range [0, 10)\n",
    "x2 = np.random.randint(10, 20, size = (3, 5))  # create random integer in range [10, 20)\n",
    "x3 = np.random.randint(10, 20, size = (2, 3, 5))\n",
    "\n",
    "print ('x1 is \\n', x1, '\\n')\n",
    "print ('x2 is \\n', x2, '\\n')\n",
    "print ('x3 is \\n', x3, '\\n')\n",
    "print ('x1 dimension is \\t', x1.ndim)\n",
    "print ('x3 dimension is \\t', x3.ndim)\n",
    "print ('x3 shape is \\t', x3.shape)\n",
    "print ('x3 size is \\t', x3.size)\n",
    "print ('x3 data type is \\t', x3.dtype)\n",
    "print ('x3 item size is \\t', x3.itemsize, 'bytes')\n",
    "print ('x3 nbytes is \\t', x3.nbytes, 'bytes')"
   ]
  },
  {
   "cell_type": "code",
   "execution_count": 33,
   "metadata": {},
   "outputs": [],
   "source": [
    "# get help of this fucntion\n",
    "? np.random.randint"
   ]
  },
  {
   "cell_type": "code",
   "execution_count": 34,
   "metadata": {},
   "outputs": [
    {
     "name": "stdout",
     "output_type": "stream",
     "text": [
      "x3[0] is \n",
      " [[19 18 19 14 13]\n",
      " [10 13 15 10 12]\n",
      " [13 18 11 13 13]] \n",
      "\n",
      "x3[0, 0] is \n",
      " [19 18 19 14 13] \n",
      "\n",
      "x3[0, 0, 0] is \n",
      " 19 \n",
      "\n"
     ]
    }
   ],
   "source": [
    "# array indexing\n",
    "print ('x3[0] is \\n', x3[0], '\\n')\n",
    "print ('x3[0, 0] is \\n', x3[0, 0], '\\n')\n",
    "print ('x3[0, 0, 0] is \\n', x3[0, 0, 0], '\\n')"
   ]
  },
  {
   "cell_type": "code",
   "execution_count": 35,
   "metadata": {},
   "outputs": [
    {
     "name": "stdout",
     "output_type": "stream",
     "text": [
      "x is \t [ 0  1  2  3  4  5  6  7  8  9 10] \n",
      "\n",
      "x[:5] is \t [0 1 2 3 4] \n",
      "\n",
      "x[2:5] is \t [2 3 4] \n",
      "\n",
      "x[::2] is \t [ 0  2  4  6  8 10] \n",
      "\n",
      "x[1::2] is \t [1 3 5 7 9] \n",
      "\n",
      "x[::-1] is \t [10  9  8  7  6  5  4  3  2  1  0] \n",
      "\n",
      "x[6::-1] is \t [6 5 4 3 2 1 0] \n",
      "\n",
      "x[6::-2] is \t [6 4 2 0] \n",
      "\n"
     ]
    }
   ],
   "source": [
    "# array slicing: access  subarrays  x[start: stop: step]\n",
    "x  = np.arange(11)    # return array with elements in range [0, 10), step-size = 1 (default)\n",
    "? np.arange\n",
    "\n",
    "print ('x is \\t', x, '\\n')\n",
    "print ('x[:5] is \\t', x[:5], '\\n' )    #  x[:n] = subarray of x with index less than n\n",
    "print ('x[2:5] is \\t', x[2:5], '\\n' )  #  x[m:n] = subarray of x with start-index = m, and end-index <n\n",
    "print ('x[::2] is \\t', x[::2], '\\n' )  #  x[0: x.size: 2]\n",
    "\n",
    "print ('x[1::2] is \\t', x[1::2], '\\n')   #  x[1: x.size: 2]\n",
    "\n",
    "# reverse the array using negative index\n",
    "print ('x[::-1] is \\t', x[::-1], '\\n' )     # reverse the array\n",
    "print ('x[6::-1] is \\t', x[6::-1], '\\n' )      # reverse the subarray with index <=6 in x\n",
    "print ('x[6::-2] is \\t', x[6::-2], '\\n' )      # reverse the subarray with index <=6 in x"
   ]
  },
  {
   "cell_type": "code",
   "execution_count": 211,
   "metadata": {},
   "outputs": [
    {
     "name": "stdout",
     "output_type": "stream",
     "text": [
      "x2 is \n",
      "[[13 15 12 14 17]\n",
      " [16 18 18 11 16]\n",
      " [17 17 18 11 15]] \n",
      "\n",
      "x2 shape is \t(3L, 5L) \t dimension is \t2 \t size is \t15 \n",
      "\n",
      "x2[:2, :3] is \n",
      "[[13 15 12]\n",
      " [16 18 18]] \n",
      "\n",
      "x2[:2, :] is \n",
      "[[13 15 12 14 17]\n",
      " [16 18 18 11 16]] \n",
      "\n",
      "x2[:3, ::2] is \n",
      "[[13 12 17]\n",
      " [16 18 16]\n",
      " [17 18 15]] \n",
      "\n",
      "x2[::-1, ::-2] is \n",
      "[[15 18 17]\n",
      " [16 18 16]\n",
      " [17 12 13]] \n",
      "\n",
      "x2[0] is \t[13 15 12 14 17] \n",
      "\n",
      "x2[0, :] is \t[13 15 12 14 17] \n",
      "\n"
     ]
    }
   ],
   "source": [
    "# slice of  multi-dimensional array\n",
    "print 'x2 is \\n', x2, '\\n'\n",
    "print 'x2 shape is \\t', x2.shape, '\\t dimension is \\t', x2.ndim, '\\t size is \\t', x2.size, '\\n'\n",
    "\n",
    "print 'x2[:2, :3] is \\n', x2[:2, :3], '\\n'\n",
    "print 'x2[:2, :] is \\n', x2[:2, :], '\\n'\n",
    "print 'x2[:3, ::2] is \\n', x2[:3, ::2], '\\n'   # row index is 0,1, 2, and column index is 0,2,4\n",
    "print 'x2[::-1, ::-2] is \\n', x2[::-1,::-2], '\\n'  # reverse sub-array\n",
    "print 'x2[0] is \\t', x2[0], '\\n'\n",
    "print 'x2[0, :] is \\t', x2[0, :], '\\n'"
   ]
  },
  {
   "cell_type": "code",
   "execution_count": 36,
   "metadata": {},
   "outputs": [
    {
     "name": "stdout",
     "output_type": "stream",
     "text": [
      "x2_sub is \n",
      " [[13 15 12]\n",
      " [16 18 18]] \n",
      "\n",
      "x2_sub[0] is \t [13 15 12] \n",
      "\n",
      "x2_sub[0][0] is \t 13 \n",
      "\n",
      "x2_sub[0, 0] is \t 13 \n",
      "\n"
     ]
    },
    {
     "data": {
      "text/plain": [
       "array([[13, 15, 12, 14, 17],\n",
       "       [16, 18, 18, 11, 16],\n",
       "       [17, 17, 18, 11, 15]])"
      ]
     },
     "execution_count": 36,
     "metadata": {},
     "output_type": "execute_result"
    }
   ],
   "source": [
    "x2_sub = x2[:2, :3]\n",
    "print ('x2_sub is \\n', x2_sub, '\\n')\n",
    "print ('x2_sub[0] is \\t', x2_sub[0], '\\n')\n",
    "print ('x2_sub[0][0] is \\t', x2_sub[0][0], '\\n')\n",
    "print ('x2_sub[0, 0] is \\t', x2_sub[0, 0], '\\n')\n",
    "x2"
   ]
  },
  {
   "cell_type": "code",
   "execution_count": 37,
   "metadata": {},
   "outputs": [
    {
     "name": "stdout",
     "output_type": "stream",
     "text": [
      "x2_sub is \n",
      " [[99 15 12]\n",
      " [16 18 18]] \n",
      "\n",
      "x2 is \n",
      " [[99 15 12 14 17]\n",
      " [16 18 18 11 16]\n",
      " [17 17 18 11 15]] \n",
      "\n"
     ]
    }
   ],
   "source": [
    "x2_sub[0, 0 ] = 99\n",
    "print ('x2_sub is \\n', x2_sub, '\\n')\n",
    "print ('x2 is \\n', x2, '\\n')"
   ]
  },
  {
   "cell_type": "code",
   "execution_count": 41,
   "metadata": {},
   "outputs": [
    {
     "name": "stdout",
     "output_type": "stream",
     "text": [
      "x2_sub_copy is \n",
      " [[99 15]\n",
      " [16 18]] \n",
      "\n",
      "x2_sub_copy is \n",
      " [[129  15]\n",
      " [ 16  18]] \n",
      "\n",
      "x2 is \n",
      " [[99 15 12 14 17]\n",
      " [16 18 18 11 16]\n",
      " [17 17 18 11 15]] \n",
      "\n"
     ]
    }
   ],
   "source": [
    "# creating copies of array: copy() method\n",
    "x2_sub_copy = x2[:2, :2].copy()\n",
    "print('x2_sub_copy is \\n', x2_sub_copy, '\\n')\n",
    "\n",
    "x2_sub_copy[0][0] = 129    # change the element in copy of array will not affect the original array\n",
    "print('x2_sub_copy is \\n', x2_sub_copy, '\\n')\n",
    "print('x2 is \\n', x2, '\\n')\n"
   ]
  },
  {
   "cell_type": "code",
   "execution_count": 49,
   "metadata": {},
   "outputs": [
    {
     "data": {
      "text/plain": [
       "array([[1, 2, 3],\n",
       "       [4, 5, 6],\n",
       "       [7, 8, 9]])"
      ]
     },
     "execution_count": 49,
     "metadata": {},
     "output_type": "execute_result"
    }
   ],
   "source": [
    "# reshaping of arrays: reshape()  method\n",
    "# Note: the size of the initial array must match the size of the reshaped array. \n",
    "np.arange(1, 10).reshape(3,3)"
   ]
  },
  {
   "cell_type": "code",
   "execution_count": 73,
   "metadata": {},
   "outputs": [
    {
     "name": "stdout",
     "output_type": "stream",
     "text": [
      "y = x.reshape((1,3)) is \n",
      " [[1 2 3]] \n",
      "\n",
      "y[0] is \t [1 2 3]\n",
      "x is \t [1 2 3] \n",
      "\n",
      "x[0] is \t 1\n",
      "\n",
      "\n",
      "y1 = x[np.newaxis, :] is \n",
      " [[1 2 3]]\n",
      "y1.shape is \t (1, 3)\n"
     ]
    }
   ],
   "source": [
    "x = np.array([1,2, 3])\n",
    "y = x.reshape((1,3))\n",
    "y1 = x[np.newaxis, :]\n",
    "\n",
    "print('y = x.reshape((1,3)) is \\n', y, '\\n')\n",
    "print('y[0] is \\t', y[0])\n",
    "print('x is \\t', x, '\\n')\n",
    "print('x[0] is \\t', x[0])\n",
    "\n",
    "print('\\n')\n",
    "print('y1 = x[np.newaxis, :] is \\n', y1)\n",
    "print('y1.shape is \\t', y1.shape)"
   ]
  },
  {
   "cell_type": "code",
   "execution_count": 71,
   "metadata": {},
   "outputs": [
    {
     "data": {
      "text/plain": [
       "array([[1],\n",
       "       [2],\n",
       "       [3]])"
      ]
     },
     "execution_count": 71,
     "metadata": {},
     "output_type": "execute_result"
    }
   ],
   "source": [
    "x.reshape((3,1))"
   ]
  },
  {
   "cell_type": "code",
   "execution_count": 82,
   "metadata": {},
   "outputs": [
    {
     "data": {
      "text/plain": [
       "array([[[1, 2],\n",
       "        [3, 5]]])"
      ]
     },
     "execution_count": 82,
     "metadata": {},
     "output_type": "execute_result"
    }
   ],
   "source": [
    "np.array([1, 2, 3, 5]).reshape((2,2))[np.newaxis, :]"
   ]
  },
  {
   "cell_type": "code",
   "execution_count": 85,
   "metadata": {},
   "outputs": [
    {
     "data": {
      "text/plain": [
       "array([[[1, 2],\n",
       "        [3, 5]]])"
      ]
     },
     "execution_count": 85,
     "metadata": {},
     "output_type": "execute_result"
    }
   ],
   "source": [
    "np.array([1, 2, 3, 5]).reshape((2,2))[np.newaxis, :, :]"
   ]
  },
  {
   "cell_type": "code",
   "execution_count": 87,
   "metadata": {},
   "outputs": [
    {
     "data": {
      "text/plain": [
       "(2, 1, 2)"
      ]
     },
     "execution_count": 87,
     "metadata": {},
     "output_type": "execute_result"
    }
   ],
   "source": [
    "np.array([1, 2, 3, 5]).reshape((2,2))[:, np.newaxis, :].shape"
   ]
  },
  {
   "cell_type": "code",
   "execution_count": 89,
   "metadata": {},
   "outputs": [
    {
     "data": {
      "text/plain": [
       "(2, 2, 1)"
      ]
     },
     "execution_count": 89,
     "metadata": {},
     "output_type": "execute_result"
    }
   ],
   "source": [
    "np.array([1, 2, 3, 5]).reshape((2,2))[:, :, np.newaxis].shape"
   ]
  },
  {
   "cell_type": "code",
   "execution_count": 4,
   "metadata": {},
   "outputs": [
    {
     "data": {
      "text/plain": [
       "array([1, 2, 3, 4, 5, 6])"
      ]
     },
     "execution_count": 4,
     "metadata": {},
     "output_type": "execute_result"
    }
   ],
   "source": [
    "# concanate array:  np.concatenate, np.vstack, and np.hstack.\n",
    "\n",
    "import numpy as np\n",
    "x = np.array([1, 2, 3])\n",
    "y = np.array([4, 5, 6])\n",
    "np.concatenate([x,y])     # np.concatenate  takes a tuple or list of arrays as its first argument\n",
    " "
   ]
  },
  {
   "cell_type": "code",
   "execution_count": 5,
   "metadata": {},
   "outputs": [
    {
     "data": {
      "text/plain": [
       "array([ 1,  2,  3,  4,  5,  6,  7,  8,  9, 10])"
      ]
     },
     "execution_count": 5,
     "metadata": {},
     "output_type": "execute_result"
    }
   ],
   "source": [
    "z = np.array([7, 8, 9, 10])\n",
    "np.concatenate([x, y, z])"
   ]
  },
  {
   "cell_type": "code",
   "execution_count": 19,
   "metadata": {},
   "outputs": [
    {
     "name": "stdout",
     "output_type": "stream",
     "text": [
      "grid2:  np.concatenate([grid, grid]) \n",
      " [[1 2 3]\n",
      " [4 5 6]\n",
      " [1 2 3]\n",
      " [4 5 6]]\n",
      "grid2.shape is \t (4, 3)\n",
      "grid.shape is \t (2, 3)\n"
     ]
    }
   ],
   "source": [
    "grid = np.array([1, 2, 3, 4, 5, 6]). reshape((2,3))\n",
    "# concatenate along the first axis by default\n",
    "grid2 = np.concatenate([grid, grid])      ## same as np.concatenate([grid, grid], axis = 0)\n",
    "print('grid is \\n', grid)\n",
    "print('grid2:  np.concatenate([grid, grid]) \\n', grid2)\n",
    "print('grid2.shape is \\t',grid2.shape)\n",
    "print('grid.shape is \\t',grid.shape)"
   ]
  },
  {
   "cell_type": "code",
   "execution_count": 20,
   "metadata": {},
   "outputs": [
    {
     "data": {
      "text/plain": [
       "array([[1, 2, 3, 1, 2, 3],\n",
       "       [4, 5, 6, 4, 5, 6]])"
      ]
     },
     "execution_count": 20,
     "metadata": {},
     "output_type": "execute_result"
    }
   ],
   "source": [
    "# # concatenate along the second axis (zero-indexed)\n",
    "np.concatenate([grid, grid], axis=1)"
   ]
  },
  {
   "cell_type": "code",
   "execution_count": 38,
   "metadata": {},
   "outputs": [
    {
     "name": "stdout",
     "output_type": "stream",
     "text": [
      "x_grid_vstack \n",
      " [[1 2 3]\n",
      " [1 2 3]\n",
      " [4 5 6]]\n",
      "grid_hstack \n",
      " [[1 2 3 1 2 3]\n",
      " [4 5 6 4 5 6]]\n"
     ]
    }
   ],
   "source": [
    "\"\"\"\n",
    "For working with arrays of mixed dimensions, it can be clearer to use the np.vstack\n",
    "(vertical stack) and np.hstack (horizontal stack) functions:\n",
    "\"\"\"\n",
    "x_grid_vstack = np.vstack([x, grid])\n",
    "grid_hstack = np.hstack([grid,grid])\n",
    "print('x_grid_vstack \\n', x_grid_vstack)\n",
    "print('grid_hstack \\n', grid_hstack)"
   ]
  },
  {
   "cell_type": "code",
   "execution_count": 59,
   "metadata": {},
   "outputs": [
    {
     "name": "stdout",
     "output_type": "stream",
     "text": [
      "[1 2 3] \t [99 99] \t [3 2 1]\n",
      "\n",
      " np.vsplit results:\n",
      "[[0 1 2 3]\n",
      " [4 5 6 7]] \n",
      "\n",
      " [[ 8  9 10 11]\n",
      " [12 13 14 15]]\n",
      "\n",
      "\n",
      " the np.split(g, [3]) results is:\n",
      "[[ 0  1  2]\n",
      " [ 4  5  6]\n",
      " [ 8  9 10]\n",
      " [12 13 14]] \n",
      "\n",
      "[[ 3]\n",
      " [ 7]\n",
      " [11]\n",
      " [15]]\n"
     ]
    }
   ],
   "source": [
    "## spliting of array:  np.split, np.hsplit, and np.vsplit. \n",
    "x = [1, 2, 3, 99, 99, 3, 2, 1]\n",
    "x1, x2, x3 = np.split(x, [3, 5])     # Notice that N split points lead to N + 1 subarrays. \n",
    "print(x1, '\\t', x2,'\\t', x3)\n",
    "print('\\n np.vsplit results:')\n",
    "g = np.arange(16).reshape(4, 4)\n",
    "upper, lower = np.vsplit(g, [2])\n",
    "print(upper, '\\n\\n' , lower)\n",
    "\n",
    "\n",
    "left, right = np.hsplit(g, [3])\n",
    "print('\\n\\n the np.split(g, [3]) results is:')\n",
    "print(left, '\\n')\n",
    "print(right)"
   ]
  },
  {
   "cell_type": "code",
   "execution_count": 79,
   "metadata": {},
   "outputs": [
    {
     "name": "stdout",
     "output_type": "stream",
     "text": [
      "[[0.5        0.2        0.125      0.16666667 0.125     ]\n",
      " [0.2        0.33333333 0.2        0.11111111 0.2       ]]\n",
      "3.22 ms ± 33.9 µs per loop (mean ± std. dev. of 7 runs, 100 loops each)\n"
     ]
    }
   ],
   "source": [
    "# Computation on NumPy Arrays: Universal Functions\n",
    "# to speedup your calculation\n",
    "small_array = np.random.randint(1, 10, size = (2, 5))\n",
    "big_array = np.random.randint(1, 100, size=1000000)\n",
    "print(1.0 / small_array)\n",
    "%timeit (1.0/big_array)"
   ]
  },
  {
   "cell_type": "code",
   "execution_count": 80,
   "metadata": {},
   "outputs": [
    {
     "data": {
      "text/plain": [
       "array([0.        , 0.5       , 0.66666667, 0.75      , 0.8       ])"
      ]
     },
     "execution_count": 80,
     "metadata": {},
     "output_type": "execute_result"
    }
   ],
   "source": [
    "np.arange(5)/np.arange(1,6)"
   ]
  },
  {
   "cell_type": "code",
   "execution_count": 93,
   "metadata": {},
   "outputs": [
    {
     "name": "stdout",
     "output_type": "stream",
     "text": [
      "x is \n",
      " [[0 1 2 3 4]\n",
      " [5 6 7 8 9]] \n",
      "\n",
      "2**x is \n",
      " [[  1   2   4   8  16]\n",
      " [ 32  64 128 256 512]] \n",
      "\n",
      "x/2 is \n",
      " [[0.  0.5 1.  1.5 2. ]\n",
      " [2.5 3.  3.5 4.  4.5]] \n",
      "\n",
      "x%2 is \n",
      " [[0 1 0 1 0]\n",
      " [1 0 1 0 1]] \n",
      "\n",
      "x**2 is \n",
      " [[ 0  1  4  9 16]\n",
      " [25 36 49 64 81]] \n",
      "\n",
      "-x is \n",
      " [[ 0 -1 -2 -3 -4]\n",
      " [-5 -6 -7 -8 -9]] \n",
      "\n",
      "0.5*x + 2 is \n",
      " [[ 2.   1.5  1.   0.5  0. ]\n",
      " [-0.5 -1.  -1.5 -2.  -2.5]] \n",
      "\n",
      "x + 2 is \n",
      " [[ 2  3  4  5  6]\n",
      " [ 7  8  9 10 11]] \n",
      "\n",
      "np.add(x, 2) is \n",
      " [[ 2  3  4  5  6]\n",
      " [ 7  8  9 10 11]] \n",
      "\n"
     ]
    }
   ],
   "source": [
    "x = np.arange(10).reshape(2,5)\n",
    "print('x is \\n', x, '\\n')\n",
    "print('2**x is \\n', 2**x, '\\n')\n",
    "print('x/2 is \\n', x/2, '\\n')\n",
    "print('x%2 is \\n', x%2, '\\n')\n",
    "print('x**2 is \\n', x**2, '\\n')\n",
    "print('-x is \\n', -x, '\\n')\n",
    "print('0.5*x + 2 is \\n', -0.5*x + 2, '\\n')\n",
    "print('x + 2 is \\n', x + 2, '\\n')\n",
    "print('np.add(x, 2) is \\n', np.add(x, 2), '\\n')"
   ]
  },
  {
   "cell_type": "code",
   "execution_count": null,
   "metadata": {},
   "outputs": [],
   "source": [
    "\"\"\"\n",
    "Arithmetic operators implemented in NumPy\n",
    "Operator Equivalent ufunc               Description\n",
    "+        np.add Addition                     (e.g., 1 + 1 = 2)\n",
    "-        np.subtract Subtraction             (e.g., 3 - 2 = 1)\n",
    "-        np.negative Unary negation          (e.g., -2)\n",
    "*        np.multiply Multiplication          (e.g., 2 * 3 = 6)\n",
    "/        np.divide Division                  (e.g., 3 / 2 = 1.5)\n",
    "//       np.floor_divide Floor division      (e.g., 3 // 2 = 1)\n",
    "**       np.power Exponentiation             (e.g., 2 ** 3 = 8)\n",
    "%        np.mod Modulus/remainder            (e.g., 9 % 4 = 1)\n",
    "abs()    np.absolute() or np.abs()           (e.g., abs(-5) = 5)\n",
    "\"\"\"\n"
   ]
  },
  {
   "cell_type": "code",
   "execution_count": 107,
   "metadata": {},
   "outputs": [
    {
     "name": "stdout",
     "output_type": "stream",
     "text": [
      "theta = \t\t [0.         1.57079633 3.14159265]\n",
      "np.sin(theta) = \t [0.0000000e+00 1.0000000e+00 1.2246468e-16]\n",
      "np.cos(theta) = \t [ 1.000000e+00  6.123234e-17 -1.000000e+00]\n",
      "np.tan(theta) = \t [ 0.00000000e+00  1.63312394e+16 -1.22464680e-16] \n",
      "\n",
      "\n",
      " x = \t\t [-1, 0, 1]\n",
      "np.arcsin(x) = \t [-1.57079633  0.          1.57079633]\n",
      "np.arccos(x) = \t [3.14159265 1.57079633 0.        ]\n",
      "np.arctan(x) = \t [-0.78539816  0.          0.78539816]\n"
     ]
    }
   ],
   "source": [
    "theta = np.linspace(0, np.pi, 3)\n",
    "print(\"theta = \\t\\t\", theta)\n",
    "print('np.sin(theta) = \\t', np.sin(theta))\n",
    "print('np.cos(theta) = \\t', np.cos(theta))\n",
    "print('np.tan(theta) = \\t', np.tan(theta), '\\n')\n",
    "\n",
    "x = [-1, 0, 1]\n",
    "print('\\n x = \\t\\t', x)\n",
    "print('np.arcsin(x) = \\t', np.arcsin(x))\n",
    "print('np.arccos(x) = \\t', np.arccos(x))\n",
    "print('np.arctan(x) = \\t', np.arctan(x))"
   ]
  },
  {
   "cell_type": "code",
   "execution_count": 112,
   "metadata": {},
   "outputs": [
    {
     "name": "stdout",
     "output_type": "stream",
     "text": [
      "x = \t\t [1, 2, 3]\n",
      "e^x = \t [ 2.71828183  7.3890561  20.08553692]\n",
      "2^x = \t [2. 4. 8.]\n",
      "3^x = \t [ 3  9 27] \n",
      "\n",
      "x = \t\t [1, 2, 4, 10]\n",
      "np.log(x) = \t [0.         0.69314718 1.38629436 2.30258509]\n",
      "np.log2(x) = \t [0.         1.         2.         3.32192809]\n",
      "np.log10(x) = \t [0.         0.30103    0.60205999 1.        ] \n",
      "\n",
      "x = \t\t [0, 0.001, 0.01, 0.1]\n",
      "exp(x) - 1 = \t [0.         0.0010005  0.01005017 0.10517092]\n",
      "log(1+x) = \t [0.         0.0009995  0.00995033 0.09531018]\n",
      "exp(x)  = \t [1.         1.0010005  1.01005017 1.10517092]\n",
      "log(x) = \t [       -inf -6.90775528 -4.60517019 -2.30258509]\n"
     ]
    },
    {
     "name": "stderr",
     "output_type": "stream",
     "text": [
      "c:\\python37\\lib\\site-packages\\ipykernel_launcher.py:24: RuntimeWarning: divide by zero encountered in log\n"
     ]
    }
   ],
   "source": [
    "# exponential operation\n",
    "\n",
    "x = [1, 2, 3]\n",
    "print('x = \\t\\t', x )\n",
    "print('e^x = \\t', np.exp(x))\n",
    "print('2^x = \\t', np.exp2(x))\n",
    "print('3^x = \\t', np.power(3, x), '\\n')\n",
    "\n",
    "## log operation\n",
    "x = [1, 2, 4, 10]\n",
    "print('x = \\t\\t', x)\n",
    "print('np.log(x) = \\t', np.log(x))   # ln(x) \n",
    "print('np.log2(x) = \\t', np.log2(x))\n",
    "print('np.log10(x) = \\t', np.log10(x), '\\n')\n",
    "\n",
    "\n",
    "## when x is very small, np.expm1(x) and np.log1p(x) than np.exp(x) and np.log(x)\n",
    "\n",
    "x = [0, 0.001, 0.01, 0.1]\n",
    "print('x = \\t\\t', x)\n",
    "print('exp(x) - 1 = \\t', np.expm1(x))\n",
    "print('log(1+x) = \\t', np.log1p(x))\n",
    "print('exp(x)  = \\t', np.exp(x))\n",
    "print('log(x) = \\t', np.log(x))"
   ]
  },
  {
   "cell_type": "code",
   "execution_count": 119,
   "metadata": {},
   "outputs": [
    {
     "data": {
      "text/plain": [
       "array([1.00e+00, 2.40e+01, 5.04e+03])"
      ]
     },
     "execution_count": 119,
     "metadata": {},
     "output_type": "execute_result"
    }
   ],
   "source": [
    "## special functions in numpy\n",
    "from scipy import special\n",
    "x = [1, 5, 8]\n",
    "special.gamma(x)"
   ]
  },
  {
   "cell_type": "code",
   "execution_count": 121,
   "metadata": {},
   "outputs": [
    {
     "data": {
      "text/plain": [
       "array([0.        , 3.17805383, 8.52516136])"
      ]
     },
     "execution_count": 121,
     "metadata": {},
     "output_type": "execute_result"
    }
   ],
   "source": [
    "special.gammaln(x)   # = ln(|gamma(x)|)"
   ]
  },
  {
   "cell_type": "code",
   "execution_count": 116,
   "metadata": {},
   "outputs": [
    {
     "data": {
      "text/plain": [
       "array([0.5       , 0.03333333, 0.01388889])"
      ]
     },
     "execution_count": 116,
     "metadata": {},
     "output_type": "execute_result"
    }
   ],
   "source": [
    "special.beta(x, 2)"
   ]
  },
  {
   "cell_type": "code",
   "execution_count": 123,
   "metadata": {},
   "outputs": [
    {
     "data": {
      "text/plain": [
       "array([ 0., 10., 20., 30., 40.])"
      ]
     },
     "execution_count": 123,
     "metadata": {},
     "output_type": "execute_result"
    }
   ],
   "source": [
    "x = np.arange(5)\n",
    "y = np.empty(x.size)\n",
    "np.multiply(x, 10, out = y)   ## calculate x*10 and save results to y  (but need much less memory storage than y = x*10)"
   ]
  },
  {
   "cell_type": "code",
   "execution_count": 126,
   "metadata": {},
   "outputs": [
    {
     "name": "stdout",
     "output_type": "stream",
     "text": [
      "[ 1.  0.  2.  0.  4.  0.  8.  0. 16.  0.]\n"
     ]
    }
   ],
   "source": [
    "y = np.zeros(10)\n",
    "np.power(2, x, out = y[::2])\n",
    "print(y)"
   ]
  },
  {
   "cell_type": "code",
   "execution_count": 140,
   "metadata": {},
   "outputs": [
    {
     "name": "stdout",
     "output_type": "stream",
     "text": [
      "np.add.reduce(x) = \t 15\n",
      "np.add.accumulate(x) = \t [ 1  3  6 10 15]\n",
      "np.multiply.reduce(x) = \t 120\n",
      "np.multiply.accumulate(x) = \t [  1   2   6  24 120]\n",
      "np.multiply.outer(x, x) = \n",
      " [[ 1  2  3  4  5]\n",
      " [ 2  4  6  8 10]\n",
      " [ 3  6  9 12 15]\n",
      " [ 4  8 12 16 20]\n",
      " [ 5 10 15 20 25]]\n"
     ]
    }
   ],
   "source": [
    "## aggregate values in numpy array\n",
    "x = np.arange(1, 6)    ## array([1, 2, 3, 4, 5])\n",
    "print('np.add.reduce(x) = \\t', np.add.reduce(x))\n",
    "print('np.add.accumulate(x) = \\t', np.add.accumulate(x))\n",
    "print('np.multiply.reduce(x) = \\t', np.multiply.reduce(x))\n",
    "print('np.multiply.accumulate(x) = \\t', np.multiply.accumulate(x))\n",
    "print('np.multiply.outer(x, x) = \\n', np.multiply.outer(x, x))"
   ]
  },
  {
   "cell_type": "code",
   "execution_count": 141,
   "metadata": {},
   "outputs": [
    {
     "data": {
      "text/plain": [
       "15"
      ]
     },
     "execution_count": 141,
     "metadata": {},
     "output_type": "execute_result"
    }
   ],
   "source": [
    "np.sum(x)"
   ]
  },
  {
   "cell_type": "code",
   "execution_count": 147,
   "metadata": {},
   "outputs": [
    {
     "name": "stdout",
     "output_type": "stream",
     "text": [
      "98.6 ms ± 7.95 ms per loop (mean ± std. dev. of 7 runs, 10 loops each)\n",
      "1.22 ms ± 36.1 µs per loop (mean ± std. dev. of 7 runs, 1000 loops each)\n"
     ]
    }
   ],
   "source": [
    "big_array = np.random.rand(1000000)\n",
    "%timeit sum(big_array)\n",
    "%timeit np.sum(big_array)"
   ]
  },
  {
   "cell_type": "code",
   "execution_count": 148,
   "metadata": {},
   "outputs": [
    {
     "name": "stdout",
     "output_type": "stream",
     "text": [
      "67.3 ms ± 3.15 ms per loop (mean ± std. dev. of 7 runs, 10 loops each)\n",
      "451 µs ± 20.7 µs per loop (mean ± std. dev. of 7 runs, 1000 loops each)\n"
     ]
    }
   ],
   "source": [
    "%timeit min(big_array)\n",
    "%timeit np.min(big_array)"
   ]
  },
  {
   "cell_type": "code",
   "execution_count": 151,
   "metadata": {},
   "outputs": [
    {
     "name": "stdout",
     "output_type": "stream",
     "text": [
      "68.3 ms ± 3.86 ms per loop (mean ± std. dev. of 7 runs, 10 loops each)\n",
      "427 µs ± 5.37 µs per loop (mean ± std. dev. of 7 runs, 1000 loops each)\n",
      "435 µs ± 12.3 µs per loop (mean ± std. dev. of 7 runs, 1000 loops each)\n",
      "424 µs ± 5.78 µs per loop (mean ± std. dev. of 7 runs, 1000 loops each)\n"
     ]
    }
   ],
   "source": [
    "%timeit max(big_array)\n",
    "%timeit np.max(big_array)\n",
    "%timeit big_array.min()\n",
    "%timeit big_array.max()"
   ]
  },
  {
   "cell_type": "code",
   "execution_count": 161,
   "metadata": {},
   "outputs": [
    {
     "name": "stdout",
     "output_type": "stream",
     "text": [
      "x = \n",
      " [[3 3 3 7]\n",
      " [7 2 1 6]\n",
      " [3 4 8 5]] \n",
      "\n",
      "x.sum() = \t 52\n",
      "x.sum(axis = 0) = \t [13  9 12 18]\n",
      "x.min() = \t 1\n",
      "x.min(axis = 1) = \t [3 1 3]\n",
      "x.max(axis = 1) =  [7 7 8]\n"
     ]
    }
   ],
   "source": [
    "x= np.random.randint(1, 9, size = (3, 4))\n",
    "print('x = \\n', x, '\\n')\n",
    "\n",
    "print('x.sum() = \\t', x.sum())\n",
    "print('x.sum(axis = 0) = \\t', x.sum(axis =0))   ## sum along axis = 0, means sum the values in each column\n",
    "\n",
    "print('x.min() = \\t', x.min())\n",
    "print('x.min(axis = 1) = \\t', x.min(axis = 1))\n",
    "\n",
    "print('x.max(axis = 1) = ', x.max(axis = 1))"
   ]
  },
  {
   "cell_type": "code",
   "execution_count": 154,
   "metadata": {},
   "outputs": [
    {
     "data": {
      "text/plain": [
       "array([[8, 6, 5, 3],\n",
       "       [7, 3, 5, 7],\n",
       "       [2, 8, 5, 4]])"
      ]
     },
     "execution_count": 154,
     "metadata": {},
     "output_type": "execute_result"
    }
   ],
   "source": [
    "\"\"\"\n",
    "Function Name      NaN-safe Version          Description\n",
    "np.sum             np.nansum                 Compute sum of elements\n",
    "np.prod            np.nanprod                Compute product of elements\n",
    "np.mean            np.nanmean                Compute median of elements\n",
    "np.std             np.nanstd                 Compute standard deviation\n",
    "np.var             np.nanvar                 Compute variance\n",
    "np.min             np.nanmin                 Find minimum value\n",
    "np.max             np.nanmax                 Find maximum value\n",
    "np.argmin          np.nanargmin              Find index of minimum value\n",
    "np.argmax          np.nanargmax              Find index of maximum value\n",
    "np.median          np.nanmedian              Compute median of elements\n",
    "np.percentile      np.nanpercentile          Compute rank-based statistics of elements\n",
    "np.any             N/A                       Evaluate whether any elements are true\n",
    "np.all             N/A                      Evaluate whether all elements are true\n",
    "\"\"\""
   ]
  },
  {
   "cell_type": "code",
   "execution_count": 164,
   "metadata": {},
   "outputs": [
    {
     "name": "stdout",
     "output_type": "stream",
     "text": [
      "order,name,height(cm)\n",
      "1,George Washington,189\n",
      "2,John Adams,170\n",
      "3,Thomas Jefferson,189\n"
     ]
    }
   ],
   "source": [
    "!head -4 data/president_heights.csv"
   ]
  },
  {
   "cell_type": "code",
   "execution_count": 173,
   "metadata": {},
   "outputs": [
    {
     "name": "stdout",
     "output_type": "stream",
     "text": [
      "heights data \n",
      " [189 170 189 163 183 171 185 168 173 183 173 173 175 178 183 193 178 173\n",
      " 174 183 183 168 170 178 182 180 183 178 182 188 175 179 183 193 182 183\n",
      " 177 185 188 188 182 185]\n",
      "heights data size =  42\n"
     ]
    }
   ],
   "source": [
    "import pandas as pd\n",
    "data = pd.read_csv('data/president_heights.csv')\n",
    "heights = np.array(data['height(cm)'])\n",
    "print('heights data \\n', heights)\n",
    "print('heights data size = ', heights.size)"
   ]
  },
  {
   "cell_type": "code",
   "execution_count": 185,
   "metadata": {},
   "outputs": [
    {
     "name": "stdout",
     "output_type": "stream",
     "text": [
      "heights.min() = \t 163\n",
      "heights.max() = \t 193\n",
      "heights.mean() = \t 179.73809523809524\n",
      "heights.std() = \t 6.931843442745892\n",
      "height.sum() = \t 7549\n",
      "heights 25% quantile =  174.25\n",
      "heights 50% quantile =  182.0\n",
      "heights median = \t 182.0\n",
      "heights 75% quantile =  183.0\n"
     ]
    }
   ],
   "source": [
    "## summary of the heights\n",
    "print(\"heights.min() = \\t\", heights.min())\n",
    "print('heights.max() = \\t', heights.max())\n",
    "print('heights.mean() = \\t', heights.mean())\n",
    "print('heights.std() = \\t', heights.std())   ## standard deviation\n",
    "print('height.sum() = \\t', heights.sum())\n",
    "print('heights 25% quantile = ', np.percentile(heights, 25))\n",
    "print('heights 50% quantile = ', np.percentile(heights, 50))\n",
    "print('heights median = \\t', np.median(heights))\n",
    "print('heights 75% quantile = ', np.percentile(heights, 75))"
   ]
  },
  {
   "cell_type": "code",
   "execution_count": 188,
   "metadata": {},
   "outputs": [],
   "source": [
    "## visualize the heights data\n",
    "%matplotlib inline\n",
    "import matplotlib.pyplot as plt\n",
    "import seaborn   # statistical data  visualization package, based on 'matplotlib'\n",
    "seaborn.set()"
   ]
  },
  {
   "cell_type": "code",
   "execution_count": 189,
   "metadata": {},
   "outputs": [
    {
     "data": {
      "text/plain": [
       "(array([ 1.,  2.,  3.,  5.,  3.,  6., 12.,  3.,  5.,  2.]),\n",
       " array([163., 166., 169., 172., 175., 178., 181., 184., 187., 190., 193.]),\n",
       " <a list of 10 Patch objects>)"
      ]
     },
     "execution_count": 189,
     "metadata": {},
     "output_type": "execute_result"
    },
    {
     "data": {
      "image/png": "[encoded data removed]",
      "text/plain": [
       "<Figure size 432x288 with 1 Axes>"
      ]
     },
     "metadata": {
      "needs_background": "light"
     },
     "output_type": "display_data"
    }
   ],
   "source": [
    "plt.hist(heights)"
   ]
  },
  {
   "cell_type": "code",
   "execution_count": 191,
   "metadata": {},
   "outputs": [
    {
     "data": {
      "text/plain": [
       "Text(0, 0.5, 'number')"
      ]
     },
     "execution_count": 191,
     "metadata": {},
     "output_type": "execute_result"
    },
    {
     "data": {
      "image/png": "[encoded data removed]",
      "text/plain": [
       "<Figure size 432x288 with 1 Axes>"
      ]
     },
     "metadata": {
      "needs_background": "light"
     },
     "output_type": "display_data"
    }
   ],
   "source": [
    "plt.title('heights distribution')\n",
    "plt.xlabel('height(cm)')\n",
    "plt.ylabel('number')"
   ]
  },
  {
   "cell_type": "code",
   "execution_count": 192,
   "metadata": {},
   "outputs": [
    {
     "data": {
      "text/plain": [
       "Text(0, 0.5, 'number')"
      ]
     },
     "execution_count": 192,
     "metadata": {},
     "output_type": "execute_result"
    },
    {
     "data": {
      "image/png": "[encoded data removed]",
      "text/plain": [
       "<Figure size 432x288 with 1 Axes>"
      ]
     },
     "metadata": {
      "needs_background": "light"
     },
     "output_type": "display_data"
    }
   ],
   "source": [
    "plt.hist(heights)\n",
    "plt.title('heights distribution')\n",
    "plt.xlabel('height(cm)')\n",
    "plt.ylabel('number')"
   ]
  },
  {
   "cell_type": "code",
   "execution_count": 196,
   "metadata": {},
   "outputs": [
    {
     "data": {
      "text/plain": [
       "array([[2., 3., 4.],\n",
       "       [2., 3., 4.],\n",
       "       [2., 3., 4.]])"
      ]
     },
     "execution_count": 196,
     "metadata": {},
     "output_type": "execute_result"
    }
   ],
   "source": [
    "# broadcasting on array: binary universal functions applied to array of different size\n",
    "a = np.array([1, 2, 3])\n",
    "m = np.ones([3,3])    # this can be write as np.ones((3,3))\n",
    "m+a   ## one dimensional array a is broadcasted to two-dimension in order to match shape of m"
   ]
  },
  {
   "cell_type": "code",
   "execution_count": 201,
   "metadata": {},
   "outputs": [
    {
     "name": "stdout",
     "output_type": "stream",
     "text": [
      "[0 1 2]\n",
      "[[0]\n",
      " [1]\n",
      " [2]]\n",
      "[[0 1 2]\n",
      " [1 2 3]\n",
      " [2 3 4]]\n"
     ]
    }
   ],
   "source": [
    "a = np.arange(3)\n",
    "b = a[:,np.newaxis]\n",
    "print(a)\n",
    "print(b)\n",
    "print(a+b)"
   ]
  },
  {
   "cell_type": "code",
   "execution_count": null,
   "metadata": {},
   "outputs": [],
   "source": [
    "\"\"\"\n",
    "Rules of Broadcasting\n",
    "Broadcasting in NumPy follows a strict set of rules to determine the interaction\n",
    "between the two arrays:\n",
    "• Rule 1: If the two arrays differ in their number of dimensions, the shape of the\n",
    "one with fewer dimensions is padded with ones on its leading (left) side.\n",
    "• Rule 2: If the shape of the two arrays does not match in any dimension, the array\n",
    "with shape equal to 1 in that dimension is stretched to match the other shape.\n",
    "• Rule 3: If in any dimension the sizes disagree and neither is equal to 1, an error is\n",
    "raised.\n",
    "\"\"\""
   ]
  },
  {
   "cell_type": "code",
   "execution_count": 204,
   "metadata": {},
   "outputs": [
    {
     "ename": "ValueError",
     "evalue": "operands could not be broadcast together with shapes (3,2) (3,) ",
     "output_type": "error",
     "traceback": [
      "\u001b[1;31m---------------------------------------------------------------------------\u001b[0m",
      "\u001b[1;31mValueError\u001b[0m                                Traceback (most recent call last)",
      "\u001b[1;32m<ipython-input-204-837d1ac4f1a3>\u001b[0m in \u001b[0;36m<module>\u001b[1;34m\u001b[0m\n\u001b[0;32m      1\u001b[0m \u001b[0mm1\u001b[0m \u001b[1;33m=\u001b[0m \u001b[0mnp\u001b[0m\u001b[1;33m.\u001b[0m\u001b[0mones\u001b[0m\u001b[1;33m(\u001b[0m\u001b[1;33m(\u001b[0m\u001b[1;36m3\u001b[0m\u001b[1;33m,\u001b[0m\u001b[1;36m2\u001b[0m\u001b[1;33m)\u001b[0m\u001b[1;33m)\u001b[0m\u001b[1;33m\u001b[0m\u001b[1;33m\u001b[0m\u001b[0m\n\u001b[1;32m----> 2\u001b[1;33m \u001b[0mm1\u001b[0m \u001b[1;33m+\u001b[0m \u001b[0ma\u001b[0m\u001b[1;33m\u001b[0m\u001b[1;33m\u001b[0m\u001b[0m\n\u001b[0m",
      "\u001b[1;31mValueError\u001b[0m: operands could not be broadcast together with shapes (3,2) (3,) "
     ]
    }
   ],
   "source": [
    "m1 = np.ones((3,2))\n",
    "m1 + a    # violate Rule 3"
   ]
  },
  {
   "cell_type": "code",
   "execution_count": 207,
   "metadata": {},
   "outputs": [
    {
     "data": {
      "text/plain": [
       "array([[1.31326169, 1.31326169],\n",
       "       [1.69314718, 1.69314718],\n",
       "       [2.31326169, 2.31326169]])"
      ]
     },
     "execution_count": 207,
     "metadata": {},
     "output_type": "execute_result"
    }
   ],
   "source": [
    "np.logaddexp(m1,  a[:, np.newaxis])   ## np.logaddexp(x, y) = log(exp(x) + exp(y))"
   ]
  },
  {
   "cell_type": "code",
   "execution_count": 211,
   "metadata": {},
   "outputs": [
    {
     "ename": "NameError",
     "evalue": "name 'plot' is not defined",
     "output_type": "error",
     "traceback": [
      "\u001b[1;31m---------------------------------------------------------------------------\u001b[0m",
      "\u001b[1;31mNameError\u001b[0m                                 Traceback (most recent call last)",
      "\u001b[1;32m<ipython-input-211-e9572a5449de>\u001b[0m in \u001b[0;36m<module>\u001b[1;34m\u001b[0m\n\u001b[0;32m      6\u001b[0m \u001b[1;32mimport\u001b[0m \u001b[0mmatplotlib\u001b[0m\u001b[1;33m.\u001b[0m\u001b[0mpyplot\u001b[0m \u001b[1;32mas\u001b[0m \u001b[0mplt\u001b[0m\u001b[1;33m\u001b[0m\u001b[1;33m\u001b[0m\u001b[0m\n\u001b[0;32m      7\u001b[0m \u001b[0mplt\u001b[0m\u001b[1;33m.\u001b[0m\u001b[0mimshow\u001b[0m\u001b[1;33m(\u001b[0m\u001b[0mz\u001b[0m\u001b[1;33m,\u001b[0m \u001b[0morigin\u001b[0m \u001b[1;33m=\u001b[0m \u001b[1;34m'lower'\u001b[0m\u001b[1;33m,\u001b[0m \u001b[0mextent\u001b[0m \u001b[1;33m=\u001b[0m \u001b[1;33m[\u001b[0m\u001b[1;36m0\u001b[0m\u001b[1;33m,\u001b[0m \u001b[1;36m5\u001b[0m\u001b[1;33m,\u001b[0m \u001b[1;36m0\u001b[0m\u001b[1;33m,\u001b[0m \u001b[1;36m5\u001b[0m\u001b[1;33m]\u001b[0m\u001b[1;33m,\u001b[0m \u001b[0mcmap\u001b[0m \u001b[1;33m=\u001b[0m \u001b[1;34m'viridis'\u001b[0m\u001b[1;33m)\u001b[0m\u001b[1;33m\u001b[0m\u001b[1;33m\u001b[0m\u001b[0m\n\u001b[1;32m----> 8\u001b[1;33m \u001b[0mplot\u001b[0m\u001b[1;33m.\u001b[0m\u001b[0mcolorbar\u001b[0m\u001b[1;33m(\u001b[0m\u001b[1;33m)\u001b[0m\u001b[1;33m\u001b[0m\u001b[1;33m\u001b[0m\u001b[0m\n\u001b[0m",
      "\u001b[1;31mNameError\u001b[0m: name 'plot' is not defined"
     ]
    },
    {
     "data": {
      "image/png": "[encoded data removed]",
      "text/plain": [
       "<Figure size 432x288 with 1 Axes>"
      ]
     },
     "metadata": {
      "needs_background": "light"
     },
     "output_type": "display_data"
    }
   ],
   "source": [
    "# plot two-dimensional data\n",
    "x = np.linspace(0, 5, 50)\n",
    "y = x[:, np.newaxis]\n",
    "z = np.sin(x)**10 + np.cos(10 + y*x)*np.cos(x)\n",
    "%matplotlib inline\n",
    "import matplotlib.pyplot as plt\n",
    "plt.imshow(z, origin = 'lower', extent = [0, 5, 0, 5], cmap = 'viridis') \n",
    "plot.colorbar()"
   ]
  },
  {
   "cell_type": "code",
   "execution_count": 214,
   "metadata": {},
   "outputs": [
    {
     "data": {
      "text/plain": [
       "(array([289.,  25.,  20.,  13.,  10.,   3.,   2.,   2.,   0.,   1.]),\n",
       " array([0.        , 0.18385827, 0.36771654, 0.5515748 , 0.73543307,\n",
       "        0.91929134, 1.10314961, 1.28700787, 1.47086614, 1.65472441,\n",
       "        1.83858268]),\n",
       " <a list of 10 Patch objects>)"
      ]
     },
     "execution_count": 214,
     "metadata": {},
     "output_type": "execute_result"
    },
    {
     "data": {
      "image/png": "[encoded data removed]",
      "text/plain": [
       "<Figure size 432x288 with 1 Axes>"
      ]
     },
     "metadata": {
      "needs_background": "light"
     },
     "output_type": "display_data"
    }
   ],
   "source": [
    "# Comparisons, Masks, and Boolean Logic\n",
    "import numpy as np\n",
    "import pandas as pd\n",
    "\n",
    "# import data from csv file\n",
    "rainfall = pd.read_csv('data/Seattle2014.csv')['PRCP'].values\n",
    "inches = rainfall / 254\n",
    "inches.shape\n",
    "\n",
    "# visualize the histogram\n",
    "%matplotlib inline\n",
    "import matplotlib.pyplot as plt\n",
    "plt.hist(inches)"
   ]
  },
  {
   "cell_type": "code",
   "execution_count": null,
   "metadata": {},
   "outputs": [],
   "source": [
    "\"\"\"\n",
    "opeator       Equivalent ufunc\n",
    "==            np.equal\n",
    "!=            np.not_equal\n",
    "<             np.less\n",
    "<=            np.less_equal\n",
    ">             np.greater\n",
    ">=            np.greater_equal\n",
    "\"\"\""
   ]
  },
  {
   "cell_type": "code",
   "execution_count": 238,
   "metadata": {},
   "outputs": [
    {
     "data": {
      "text/plain": [
       "7"
      ]
     },
     "execution_count": 238,
     "metadata": {},
     "output_type": "execute_result"
    }
   ],
   "source": [
    "# find the number of days with rainfall > 1 inch\n",
    "sum(inches > 1)"
   ]
  },
  {
   "cell_type": "code",
   "execution_count": 241,
   "metadata": {},
   "outputs": [
    {
     "name": "stdout",
     "output_type": "stream",
     "text": [
      "784 µs ± 7.74 µs per loop (mean ± std. dev. of 7 runs, 1000 loops each)\n",
      "4.3 µs ± 82.3 ns per loop (mean ± std. dev. of 7 runs, 100000 loops each)\n",
      "5.35 µs ± 162 ns per loop (mean ± std. dev. of 7 runs, 100000 loops each)\n",
      "1.66 µs ± 25.8 ns per loop (mean ± std. dev. of 7 runs, 1000000 loops each)\n"
     ]
    }
   ],
   "source": [
    "%timeit sum(inches > 1)\n",
    "%timeit (inches > 1).sum()\n",
    "%timeit np.sum(inches > 1)\n",
    "%timeit np.count_nonzero(inches>1)"
   ]
  },
  {
   "cell_type": "code",
   "execution_count": 265,
   "metadata": {},
   "outputs": [
    {
     "name": "stdout",
     "output_type": "stream",
     "text": [
      "number of rainy days = \t 150\n",
      "the average percipitation on these rainy days = \t 0.32356955380577423\n"
     ]
    }
   ],
   "source": [
    "# how many rainy days in the year\n",
    "print('number of rainy days = \\t',sum(inches > 0))\n",
    "print('the average percipitation on these rainy days = \\t', np.sum(inches*(inches > 0))/np.count_nonzero(inches > 0))"
   ]
  },
  {
   "cell_type": "code",
   "execution_count": 268,
   "metadata": {},
   "outputs": [
    {
     "data": {
      "text/plain": [
       "0.32356955380577423"
      ]
     },
     "execution_count": 268,
     "metadata": {},
     "output_type": "execute_result"
    }
   ],
   "source": [
    "inches[inches > 0].sum() / np.count_nonzero(inches > 0)"
   ]
  },
  {
   "cell_type": "code",
   "execution_count": 230,
   "metadata": {},
   "outputs": [
    {
     "name": "stdout",
     "output_type": "stream",
     "text": [
      "x > 3 returns: \t\t [False False  True  True  True  True]\n",
      "x == 3 returns: \t\t [False  True False False False False]\n",
      "x >= 3 returns \t\t [False  True  True  True  True  True]\n",
      "x != 3 returns \t\t [ True False  True  True  True  True]\n",
      "2**x == x**2  returns \t\t [False False False False False False]\n",
      "[[False  True  True]\n",
      " [ True  True  True]]\n"
     ]
    }
   ],
   "source": [
    "x = np.array([1, 3, 5, 6, 7, 8])\n",
    "print('x > 3 returns: \\t\\t', x>3)\n",
    "print('x == 3 returns: \\t\\t', x==3)\n",
    "print('x >= 3 returns \\t\\t', x>=3)\n",
    "print('x != 3 returns \\t\\t', x != 3)\n",
    "print('2**x == x**2  returns \\t\\t', 2**x==x**2)\n",
    "\n",
    "print(x.reshape(2,3) >=3)"
   ]
  },
  {
   "cell_type": "code",
   "execution_count": 248,
   "metadata": {},
   "outputs": [
    {
     "name": "stdout",
     "output_type": "stream",
     "text": [
      "[[ 0  1  2  3]\n",
      " [ 4  5  6  7]\n",
      " [ 8  9 10 11]]\n",
      "np.count_nonzero(x<6) = \t 6\n",
      "np.sum(x<6) = \t 6\n",
      "np.sum(x<6, axis = 1)  = \t [4 2 0]\n",
      "np.sum(x<6, axis = 0)  = \t [2 2 1 1]\n"
     ]
    }
   ],
   "source": [
    "x = np.arange(12).reshape(3,4)\n",
    "print(x)\n",
    "\n",
    "## how many values less than 6 in x\n",
    "print('np.count_nonzero(x<6) = \\t', np.count_nonzero(x<6))\n",
    "print('np.sum(x<6) = \\t',np.sum(x<6))\n",
    "print('np.sum(x<6, axis = 1)  = \\t', np.sum(x<6, axis = 1))\n",
    "print('np.sum(x<6, axis = 0)  = \\t', np.sum(x <6, axis = 0))"
   ]
  },
  {
   "cell_type": "code",
   "execution_count": 255,
   "metadata": {},
   "outputs": [
    {
     "name": "stdout",
     "output_type": "stream",
     "text": [
      "is there any value >8 in array x: \t True\n",
      "is there any value ==8 in array x: \t True\n",
      "is all value >8 in array x: \t False\n",
      "is all value >8 in axis 1 of array x \t [False False False]\n",
      "is any value >8 in axis 1 of array x \t [False False  True]\n"
     ]
    }
   ],
   "source": [
    "## check if any values meet some condition or all values meet some condition in one array\n",
    "print('is there any value >8 in array x: \\t', np.any(x > 8))\n",
    "print('is there any value ==8 in array x: \\t', np.any(x == 8))\n",
    "print('is all value >8 in array x: \\t', np.all(x > 8))\n",
    "print('is all value >8 in axis 1 of array x \\t', np.all(x > 8, axis = 1))\n",
    "print('is any value >8 in axis 1 of array x \\t', np.any(x > 8, axis = 1))"
   ]
  },
  {
   "cell_type": "code",
   "execution_count": 260,
   "metadata": {},
   "outputs": [
    {
     "name": "stdout",
     "output_type": "stream",
     "text": [
      "3\n",
      "37\n",
      "37\n"
     ]
    }
   ],
   "source": [
    "## bitwise logic operators, &, |, ^, and ~. \n",
    "\"\"\"\n",
    "Operator       Equivalent ufunc\n",
    "&              np.bitwise_and\n",
    "|              np.bitwise_or\n",
    "^              np.bitwise_xor\n",
    "~              np.bitwise_not\n",
    "\"\"\"\n",
    "print(np.sum((x>4)&(x<8)))\n",
    "print(np.sum((inches > 0.5) & (inches < 5)))\n",
    "print( np.sum(~ ( (inches <=0.5) | (inches >= 5) )) )"
   ]
  },
  {
   "cell_type": "code",
   "execution_count": 264,
   "metadata": {},
   "outputs": [
    {
     "name": "stdout",
     "output_type": "stream",
     "text": [
      "x is \n",
      " [[ 0  1  2  3]\n",
      " [ 4  5  6  7]\n",
      " [ 8  9 10 11]]\n",
      "x < 5 is \n",
      " [[ True  True  True  True]\n",
      " [ True False False False]\n",
      " [False False False False]]\n",
      "x[x<5] is \n",
      " [0 1 2 3 4]\n"
     ]
    }
   ],
   "source": [
    "print('x is \\n', x)\n",
    "print('x < 5 is \\n', x < 5)\n",
    "print('x[x<5] is \\n', x[x < 5])    # boolean mask"
   ]
  },
  {
   "cell_type": "code",
   "execution_count": 278,
   "metadata": {},
   "outputs": [
    {
     "data": {
      "text/plain": [
       "array([ True,  True,  True, False,  True,  True, False])"
      ]
     },
     "execution_count": 278,
     "metadata": {},
     "output_type": "execute_result"
    }
   ],
   "source": [
    "A = np.array([0, 1, 1, 0, 0, 1, 0], dtype = bool)\n",
    "B = np.array([1, 0, 1, 0, 1, 1, 0], dtype = bool)\n",
    "A | B   # A or B will cause error"
   ]
  },
  {
   "cell_type": "code",
   "execution_count": 279,
   "metadata": {},
   "outputs": [
    {
     "data": {
      "text/plain": [
       "array([False, False,  True, False, False,  True, False])"
      ]
     },
     "execution_count": 279,
     "metadata": {},
     "output_type": "execute_result"
    }
   ],
   "source": [
    "A & B"
   ]
  },
  {
   "cell_type": "code",
   "execution_count": 280,
   "metadata": {},
   "outputs": [
    {
     "data": {
      "text/plain": [
       "array([False, False,  True,  True, False,  True,  True])"
      ]
     },
     "execution_count": 280,
     "metadata": {},
     "output_type": "execute_result"
    }
   ],
   "source": [
    "A == B"
   ]
  },
  {
   "cell_type": "code",
   "execution_count": 281,
   "metadata": {},
   "outputs": [
    {
     "data": {
      "text/plain": [
       "array([ True,  True, False, False,  True, False, False])"
      ]
     },
     "execution_count": 281,
     "metadata": {},
     "output_type": "execute_result"
    }
   ],
   "source": [
    "A != B"
   ]
  },
  {
   "cell_type": "code",
   "execution_count": 284,
   "metadata": {},
   "outputs": [
    {
     "name": "stdout",
     "output_type": "stream",
     "text": [
      "<mtrand.RandomState object at 0x0000013A985141F8>\n",
      "x = \t [51 92 14 71 60 20 82 86 74 74]\n"
     ]
    }
   ],
   "source": [
    "## fancy indexing\n",
    "import numpy as np\n",
    "rand = np.random.RandomState(42)\n",
    "x= rand.randint(100, size = 10)\n",
    "print(rand)\n",
    "print('x = \\t', x)"
   ]
  },
  {
   "cell_type": "code",
   "execution_count": 285,
   "metadata": {},
   "outputs": [
    {
     "data": {
      "text/plain": [
       "array([71, 86, 60])"
      ]
     },
     "execution_count": 285,
     "metadata": {},
     "output_type": "execute_result"
    }
   ],
   "source": [
    "ind = [3, 7, 4]\n",
    "x[ind]"
   ]
  },
  {
   "cell_type": "code",
   "execution_count": 288,
   "metadata": {},
   "outputs": [
    {
     "data": {
      "text/plain": [
       "array([[71, 86],\n",
       "       [60, 74]])"
      ]
     },
     "execution_count": 288,
     "metadata": {},
     "output_type": "execute_result"
    }
   ],
   "source": [
    "ind = np.array([[3, 7], \n",
    "                [4, 8]])\n",
    "x[ind]"
   ]
  },
  {
   "cell_type": "code",
   "execution_count": 299,
   "metadata": {},
   "outputs": [
    {
     "data": {
      "text/plain": [
       "array([ 1, 11,  6])"
      ]
     },
     "execution_count": 299,
     "metadata": {},
     "output_type": "execute_result"
    }
   ],
   "source": [
    "row = np.array([0, 2, 1])\n",
    "col = np.array([1, 3, 2])\n",
    "y = np.arange(12).reshape(3,4)\n",
    "y[row, col]"
   ]
  },
  {
   "cell_type": "code",
   "execution_count": 303,
   "metadata": {},
   "outputs": [
    {
     "name": "stdout",
     "output_type": "stream",
     "text": [
      "(100, 2)\n"
     ]
    }
   ],
   "source": [
    "# select random points\n",
    "u = [0, 0]\n",
    "cov = [[1, 2],\n",
    "      [2, 5]]\n",
    "x= rand.multivariate_normal(u, cov, 100)\n",
    "print(x.shape)"
   ]
  },
  {
   "cell_type": "code",
   "execution_count": 304,
   "metadata": {},
   "outputs": [
    {
     "data": {
      "text/plain": [
       "<matplotlib.collections.PathCollection at 0x13a984f2048>"
      ]
     },
     "execution_count": 304,
     "metadata": {},
     "output_type": "execute_result"
    },
    {
     "data": {
      "image/png": "[encoded data removed]",
      "text/plain": [
       "<Figure size 432x288 with 1 Axes>"
      ]
     },
     "metadata": {
      "needs_background": "light"
     },
     "output_type": "display_data"
    }
   ],
   "source": [
    "%matplotlib inline   ## use this magic command and show the plot below the cell\n",
    "import matplotlib.pyplot as plt\n",
    "plt.scatter(x[:, 0], x[:, 1])"
   ]
  },
  {
   "cell_type": "code",
   "execution_count": 305,
   "metadata": {},
   "outputs": [
    {
     "data": {
      "text/plain": [
       "<matplotlib.collections.PathCollection at 0x13a9847cac8>"
      ]
     },
     "execution_count": 305,
     "metadata": {},
     "output_type": "execute_result"
    },
    {
     "data": {
      "image/png": "[encoded data removed]",
      "text/plain": [
       "<Figure size 432x288 with 1 Axes>"
      ]
     },
     "metadata": {},
     "output_type": "display_data"
    }
   ],
   "source": [
    "import seaborn\n",
    "seaborn.set()\n",
    "plt.scatter(x[:,0], x[:,1])"
   ]
  },
  {
   "cell_type": "code",
   "execution_count": 308,
   "metadata": {},
   "outputs": [
    {
     "data": {
      "text/plain": [
       "(20, 2)"
      ]
     },
     "execution_count": 308,
     "metadata": {},
     "output_type": "execute_result"
    }
   ],
   "source": [
    "# choosing 20 random indices with no repeats\n",
    "ind = np.random.choice(x.shape[0], 20, replace = False)   # 'False' is case-sensitive, 'false' does not work\n",
    "selection = x[ind]\n",
    "selection.shape"
   ]
  },
  {
   "cell_type": "code",
   "execution_count": 314,
   "metadata": {},
   "outputs": [
    {
     "data": {
      "text/plain": [
       "<matplotlib.collections.PathCollection at 0x13a98b08da0>"
      ]
     },
     "execution_count": 314,
     "metadata": {},
     "output_type": "execute_result"
    },
    {
     "data": {
      "image/png": "[encoded data removed]",
      "text/plain": [
       "<Figure size 432x288 with 1 Axes>"
      ]
     },
     "metadata": {},
     "output_type": "display_data"
    }
   ],
   "source": [
    "plt.scatter(x[:, 0], x[:, 1], alpha = 0.3)\n",
    "plt.scatter(selection[:, 0], selection[:, 1], facecolor = 'none', s = 200)"
   ]
  },
  {
   "cell_type": "code",
   "execution_count": 318,
   "metadata": {},
   "outputs": [
    {
     "name": "stdout",
     "output_type": "stream",
     "text": [
      "[0. 0. 2. 4. 6. 0. 0. 0. 0. 0.]\n"
     ]
    }
   ],
   "source": [
    "i = [2, 3, 3, 4, 4, 4]\n",
    "x = np.zeros(10)\n",
    "np.add.at(x, i, 2)\n",
    "print(x)"
   ]
  },
  {
   "cell_type": "code",
   "execution_count": 320,
   "metadata": {},
   "outputs": [
    {
     "data": {
      "text/plain": [
       "[<matplotlib.lines.Line2D at 0x13a98ab2400>]"
      ]
     },
     "execution_count": 320,
     "metadata": {},
     "output_type": "execute_result"
    },
    {
     "data": {
      "image/png": "[encoded data removed]",
      "text/plain": [
       "<Figure size 432x288 with 1 Axes>"
      ]
     },
     "metadata": {},
     "output_type": "display_data"
    }
   ],
   "source": [
    "## generate random data and calculate number of values in each bin\n",
    "np.random.seed(20)\n",
    "x = np.random.randn(100)   ## generate 100 points with normal distribution\n",
    "\n",
    "# define bins\n",
    "bins = np.linspace(-5, 5, 20)\n",
    "counts = np.zeros_like(bins)   ## Return an array of zeros with the same shape and type as a given array.\n",
    "\n",
    "# find the appropriate bin for each x\n",
    "i = np.searchsorted(bins, x)\n",
    "\n",
    "# add 1 to each of these bins\n",
    "np.add.at(counts, i, 1)\n",
    "\n",
    "# plot the histogram\n",
    "plt.plot(bins, counts, linestyle = 'steps')"
   ]
  },
  {
   "cell_type": "code",
   "execution_count": 324,
   "metadata": {},
   "outputs": [
    {
     "data": {
      "text/plain": [
       "(array([ 0.,  0.,  0.,  1.,  1.,  3.,  8., 17.,  9., 17., 21., 12.,  9.,\n",
       "         2.,  0.,  0.,  0.,  0.,  0.]),\n",
       " array([-5.        , -4.47368421, -3.94736842, -3.42105263, -2.89473684,\n",
       "        -2.36842105, -1.84210526, -1.31578947, -0.78947368, -0.26315789,\n",
       "         0.26315789,  0.78947368,  1.31578947,  1.84210526,  2.36842105,\n",
       "         2.89473684,  3.42105263,  3.94736842,  4.47368421,  5.        ]),\n",
       " <a list of 1 Patch objects>)"
      ]
     },
     "execution_count": 324,
     "metadata": {},
     "output_type": "execute_result"
    },
    {
     "data": {
      "image/png": "[encoded data removed]",
      "text/plain": [
       "<Figure size 432x288 with 1 Axes>"
      ]
     },
     "metadata": {},
     "output_type": "display_data"
    }
   ],
   "source": [
    "plt.hist(x, bins, histtype = 'step')"
   ]
  },
  {
   "cell_type": "code",
   "execution_count": 325,
   "metadata": {},
   "outputs": [
    {
     "data": {
      "text/plain": [
       "(array([ 2.,  1.,  5.,  9., 15., 15., 21., 15., 14.,  3.]),\n",
       " array([-3.18970279, -2.66126598, -2.13282916, -1.60439235, -1.07595554,\n",
       "        -0.54751873, -0.01908191,  0.5093549 ,  1.03779171,  1.56622853,\n",
       "         2.09466534]),\n",
       " <a list of 1 Patch objects>)"
      ]
     },
     "execution_count": 325,
     "metadata": {},
     "output_type": "execute_result"
    },
    {
     "data": {
      "image/png": "[encoded data removed]",
      "text/plain": [
       "<Figure size 432x288 with 1 Axes>"
      ]
     },
     "metadata": {},
     "output_type": "display_data"
    }
   ],
   "source": [
    "plt.hist(x, histtype = 'step')  # default bins"
   ]
  },
  {
   "cell_type": "code",
   "execution_count": 330,
   "metadata": {},
   "outputs": [],
   "source": [
    "# sort the array\n",
    "# selection_sort()  http://interactivepython.org/runestone/static/pythonds/SortSearch/TheSelectionSort.html\n",
    "import numpy as np\n",
    "\n",
    "#selection sort of an array x\n",
    "def selection_sort(x):\n",
    "    for i in range(len(x)):  # len(x) = first dimension size of array\n",
    "        swap = i + np.argmin(x[i:])    # np.argmin(x[i:])  find the index of smallest value in x[i:]\n",
    "        (x[i], x[swap]) = (x[swap], x[i])\n",
    "    return x "
   ]
  },
  {
   "cell_type": "code",
   "execution_count": 341,
   "metadata": {},
   "outputs": [
    {
     "data": {
      "text/plain": [
       "array([1, 2, 3, 4, 5])"
      ]
     },
     "execution_count": 341,
     "metadata": {},
     "output_type": "execute_result"
    }
   ],
   "source": [
    "x = np.array([2, 1, 4, 3, 5])\n",
    "selection_sort(x)"
   ]
  },
  {
   "cell_type": "code",
   "execution_count": 342,
   "metadata": {},
   "outputs": [],
   "source": [
    "# bogo sort\n",
    "def bogosort(x):\n",
    "    while np.any(x[:-1] > x[1:]):\n",
    "        np.random.shuffle(x)\n",
    "    return x"
   ]
  },
  {
   "cell_type": "code",
   "execution_count": 336,
   "metadata": {},
   "outputs": [
    {
     "data": {
      "text/plain": [
       "array([1, 2, 3, 4, 5])"
      ]
     },
     "execution_count": 336,
     "metadata": {},
     "output_type": "execute_result"
    }
   ],
   "source": [
    "bogosort(x)"
   ]
  },
  {
   "cell_type": "code",
   "execution_count": 337,
   "metadata": {},
   "outputs": [
    {
     "name": "stdout",
     "output_type": "stream",
     "text": [
      "2.23 µs ± 246 ns per loop (mean ± std. dev. of 7 runs, 100000 loops each)\n",
      "12.8 µs ± 1.12 µs per loop (mean ± std. dev. of 7 runs, 100000 loops each)\n",
      "3.77 µs ± 94 ns per loop (mean ± std. dev. of 7 runs, 100000 loops each)\n"
     ]
    }
   ],
   "source": [
    "%timeit np.sort(x)\n",
    "%timeit selection_sort(x)\n",
    "%timeit bogosort(x)"
   ]
  },
  {
   "cell_type": "code",
   "execution_count": 343,
   "metadata": {},
   "outputs": [
    {
     "name": "stdout",
     "output_type": "stream",
     "text": [
      "x = \t [1 2 3 4 5]\n",
      "np.sort(x) =\t [1 2 3 4 5]\n"
     ]
    }
   ],
   "source": [
    "## quick sort in numpy\n",
    "print('x = \\t', x)\n",
    "print('np.sort(x) =\\t', np.sort(x))"
   ]
  },
  {
   "cell_type": "code",
   "execution_count": 345,
   "metadata": {},
   "outputs": [
    {
     "name": "stdout",
     "output_type": "stream",
     "text": [
      "after x.sort(), x becomes [1 2 3 4 5]\n"
     ]
    }
   ],
   "source": [
    "x.sort()    ## sort the elements in x in-plance. (this will change the value in x)\n",
    "print('after x.sort(), x becomes', x)"
   ]
  },
  {
   "cell_type": "code",
   "execution_count": 348,
   "metadata": {},
   "outputs": [
    {
     "name": "stdout",
     "output_type": "stream",
     "text": [
      "[1 0 3 2 4]\n",
      "the sorted array is \t [1 2 3 4 5]\n"
     ]
    }
   ],
   "source": [
    "x = np.array([2, 1, 4, 3, 5])\n",
    "i = np.argsort(x)   # return index of the sorted elements\n",
    "print(i)\n",
    "print('the sorted array is \\t', x[i])"
   ]
  },
  {
   "cell_type": "code",
   "execution_count": 374,
   "metadata": {},
   "outputs": [
    {
     "name": "stdout",
     "output_type": "stream",
     "text": [
      "x is \n",
      " [[6 3 7 4 6 9]\n",
      " [2 6 7 4 3 7]\n",
      " [7 2 5 4 1 7]\n",
      " [5 1 4 0 9 5]] \n",
      "\n",
      "y is \n",
      " [[6 3 7 4 6 9]\n",
      " [2 6 7 4 3 7]\n",
      " [7 2 5 4 1 7]\n",
      " [5 1 4 0 9 5]]\n"
     ]
    }
   ],
   "source": [
    "# sort of multi-dimensional array\n",
    "myrand = np.random.RandomState(42)   ## this way could make sure each time you run the code, returns the same random numbers\n",
    "x = myrand.randint(0, 10, (4, 6))\n",
    "\n",
    "## you can also generate x using the following method, by defineding the random.seed, each run returns the same random numbers\n",
    "np.random.seed(42)\n",
    "y = np.random.randint(0, 10, (4, 6))\n",
    "##\n",
    "\n",
    "print('x is \\n', x, '\\n')\n",
    "print('y is \\n', y)"
   ]
  },
  {
   "cell_type": "code",
   "execution_count": 351,
   "metadata": {},
   "outputs": [
    {
     "data": {
      "text/plain": [
       "array([[6, 3, 7, 4, 6, 9],\n",
       "       [2, 6, 7, 4, 3, 7],\n",
       "       [7, 2, 5, 4, 1, 7],\n",
       "       [5, 1, 4, 0, 9, 5]])"
      ]
     },
     "execution_count": 351,
     "metadata": {},
     "output_type": "execute_result"
    }
   ],
   "source": [
    "np.sort(x, axis = 0)"
   ]
  },
  {
   "cell_type": "code",
   "execution_count": 375,
   "metadata": {},
   "outputs": [
    {
     "data": {
      "text/plain": [
       "array([[3, 4, 6, 6, 7, 9],\n",
       "       [2, 3, 4, 6, 7, 7],\n",
       "       [1, 2, 4, 5, 7, 7],\n",
       "       [0, 1, 4, 5, 5, 9]])"
      ]
     },
     "execution_count": 375,
     "metadata": {},
     "output_type": "execute_result"
    }
   ],
   "source": [
    "np.sort(x ,axis = 1)"
   ]
  },
  {
   "cell_type": "code",
   "execution_count": 376,
   "metadata": {},
   "outputs": [
    {
     "ename": "AxisError",
     "evalue": "axis 2 is out of bounds for array of dimension 2",
     "output_type": "error",
     "traceback": [
      "\u001b[1;31m---------------------------------------------------------------------------\u001b[0m",
      "\u001b[1;31mAxisError\u001b[0m                                 Traceback (most recent call last)",
      "\u001b[1;32m<ipython-input-376-efb350b914f5>\u001b[0m in \u001b[0;36m<module>\u001b[1;34m\u001b[0m\n\u001b[1;32m----> 1\u001b[1;33m \u001b[0mnp\u001b[0m\u001b[1;33m.\u001b[0m\u001b[0msort\u001b[0m\u001b[1;33m(\u001b[0m\u001b[0mx\u001b[0m\u001b[1;33m,\u001b[0m \u001b[0maxis\u001b[0m \u001b[1;33m=\u001b[0m \u001b[1;36m2\u001b[0m\u001b[1;33m)\u001b[0m\u001b[1;33m\u001b[0m\u001b[1;33m\u001b[0m\u001b[0m\n\u001b[0m",
      "\u001b[1;32mc:\\python37\\lib\\site-packages\\numpy\\core\\fromnumeric.py\u001b[0m in \u001b[0;36msort\u001b[1;34m(a, axis, kind, order)\u001b[0m\n\u001b[0;32m    932\u001b[0m     \u001b[1;32melse\u001b[0m\u001b[1;33m:\u001b[0m\u001b[1;33m\u001b[0m\u001b[1;33m\u001b[0m\u001b[0m\n\u001b[0;32m    933\u001b[0m         \u001b[0ma\u001b[0m \u001b[1;33m=\u001b[0m \u001b[0masanyarray\u001b[0m\u001b[1;33m(\u001b[0m\u001b[0ma\u001b[0m\u001b[1;33m)\u001b[0m\u001b[1;33m.\u001b[0m\u001b[0mcopy\u001b[0m\u001b[1;33m(\u001b[0m\u001b[0morder\u001b[0m\u001b[1;33m=\u001b[0m\u001b[1;34m\"K\"\u001b[0m\u001b[1;33m)\u001b[0m\u001b[1;33m\u001b[0m\u001b[1;33m\u001b[0m\u001b[0m\n\u001b[1;32m--> 934\u001b[1;33m     \u001b[0ma\u001b[0m\u001b[1;33m.\u001b[0m\u001b[0msort\u001b[0m\u001b[1;33m(\u001b[0m\u001b[0maxis\u001b[0m\u001b[1;33m=\u001b[0m\u001b[0maxis\u001b[0m\u001b[1;33m,\u001b[0m \u001b[0mkind\u001b[0m\u001b[1;33m=\u001b[0m\u001b[0mkind\u001b[0m\u001b[1;33m,\u001b[0m \u001b[0morder\u001b[0m\u001b[1;33m=\u001b[0m\u001b[0morder\u001b[0m\u001b[1;33m)\u001b[0m\u001b[1;33m\u001b[0m\u001b[1;33m\u001b[0m\u001b[0m\n\u001b[0m\u001b[0;32m    935\u001b[0m     \u001b[1;32mreturn\u001b[0m \u001b[0ma\u001b[0m\u001b[1;33m\u001b[0m\u001b[1;33m\u001b[0m\u001b[0m\n\u001b[0;32m    936\u001b[0m \u001b[1;33m\u001b[0m\u001b[0m\n",
      "\u001b[1;31mAxisError\u001b[0m: axis 2 is out of bounds for array of dimension 2"
     ]
    }
   ],
   "source": [
    "np.sort(x, axis = 2)"
   ]
  },
  {
   "cell_type": "code",
   "execution_count": 380,
   "metadata": {},
   "outputs": [
    {
     "data": {
      "text/plain": [
       "array([2, 1, 3, 4, 6, 5, 7])"
      ]
     },
     "execution_count": 380,
     "metadata": {},
     "output_type": "execute_result"
    }
   ],
   "source": [
    "## partial sorting\n",
    "x = np.array([7, 2, 3, 1, 6, 5, 4])\n",
    "k = 3\n",
    "np.partition(x, k)     # only sort the smallest k elements\n",
    "\n",
    "# the result is a new array with the smallest K values to the left of the partition, \n",
    "# and the remaining values to the right, in arbitrary order"
   ]
  },
  {
   "cell_type": "code",
   "execution_count": 378,
   "metadata": {},
   "outputs": [
    {
     "data": {
      "text/plain": [
       "array([1, 2, 3, 4, 5, 6, 7])"
      ]
     },
     "execution_count": 378,
     "metadata": {},
     "output_type": "execute_result"
    }
   ],
   "source": [
    "np.sort(x)"
   ]
  },
  {
   "cell_type": "code",
   "execution_count": 381,
   "metadata": {},
   "outputs": [
    {
     "data": {
      "text/plain": [
       "array([[3, 4, 6, 7, 6, 9],\n",
       "       [2, 3, 4, 7, 6, 7],\n",
       "       [1, 2, 4, 5, 7, 7],\n",
       "       [0, 1, 4, 5, 9, 5]])"
      ]
     },
     "execution_count": 381,
     "metadata": {},
     "output_type": "execute_result"
    }
   ],
   "source": [
    "np.partition(y, 2, axis=1)"
   ]
  },
  {
   "cell_type": "code",
   "execution_count": 384,
   "metadata": {},
   "outputs": [
    {
     "data": {
      "text/plain": [
       "<matplotlib.collections.PathCollection at 0x13a98ce4550>"
      ]
     },
     "execution_count": 384,
     "metadata": {},
     "output_type": "execute_result"
    },
    {
     "data": {
      "image/png": "[encoded data removed]",
      "text/plain": [
       "<Figure size 432x288 with 1 Axes>"
      ]
     },
     "metadata": {
      "needs_background": "light"
     },
     "output_type": "display_data"
    }
   ],
   "source": [
    "%matplotlib inline\n",
    "import matplotlib.pyplot as plt\n",
    "\n",
    "y = myrand.rand(10, 2)\n",
    "plt.scatter(y[:, 0], y[:, 1])"
   ]
  },
  {
   "cell_type": "code",
   "execution_count": 397,
   "metadata": {},
   "outputs": [],
   "source": [
    "# calcualte the distance between each two points in y\n",
    "dist_sq = np.sum((y[:,np.newaxis,:] - y[np.newaxis,:,:]) ** 2, axis=-1)"
   ]
  },
  {
   "cell_type": "code",
   "execution_count": 398,
   "metadata": {},
   "outputs": [
    {
     "data": {
      "text/plain": [
       "(10, 1, 2)"
      ]
     },
     "execution_count": 398,
     "metadata": {},
     "output_type": "execute_result"
    }
   ],
   "source": [
    "y[:,np.newaxis,:].shape"
   ]
  },
  {
   "cell_type": "code",
   "execution_count": 399,
   "metadata": {},
   "outputs": [
    {
     "data": {
      "text/plain": [
       "(1, 10, 2)"
      ]
     },
     "execution_count": 399,
     "metadata": {},
     "output_type": "execute_result"
    }
   ],
   "source": [
    "y[np.newaxis,:,:].shape"
   ]
  },
  {
   "cell_type": "code",
   "execution_count": 400,
   "metadata": {},
   "outputs": [
    {
     "data": {
      "text/plain": [
       "(10, 10, 2)"
      ]
     },
     "execution_count": 400,
     "metadata": {},
     "output_type": "execute_result"
    }
   ],
   "source": [
    "(y[:,np.newaxis,:] - y[np.newaxis,:,:]).shape"
   ]
  },
  {
   "cell_type": "code",
   "execution_count": 401,
   "metadata": {},
   "outputs": [
    {
     "data": {
      "text/plain": [
       "(10, 10, 2)"
      ]
     },
     "execution_count": 401,
     "metadata": {},
     "output_type": "execute_result"
    }
   ],
   "source": [
    "diff = y[:, np.newaxis, :] - y[np.newaxis, :, :]\n",
    "diff.shape"
   ]
  },
  {
   "cell_type": "code",
   "execution_count": 402,
   "metadata": {},
   "outputs": [
    {
     "data": {
      "text/plain": [
       "array([0., 0., 0., 0., 0., 0., 0., 0., 0., 0.])"
      ]
     },
     "execution_count": 402,
     "metadata": {},
     "output_type": "execute_result"
    }
   ],
   "source": [
    "dist_sq.diagonal()"
   ]
  },
  {
   "cell_type": "code",
   "execution_count": 403,
   "metadata": {},
   "outputs": [
    {
     "name": "stdout",
     "output_type": "stream",
     "text": [
      "[[0 3 9 7 1 4 2 5 6 8]\n",
      " [1 4 7 9 3 6 8 5 0 2]\n",
      " [2 1 4 6 3 0 8 9 7 5]\n",
      " [3 9 7 0 1 4 5 8 6 2]\n",
      " [4 1 8 5 6 7 9 3 0 2]\n",
      " [5 8 6 4 1 7 9 3 2 0]\n",
      " [6 8 5 4 1 7 9 3 2 0]\n",
      " [7 9 3 1 4 0 5 8 6 2]\n",
      " [8 5 6 4 1 7 9 3 2 0]\n",
      " [9 7 3 0 1 4 5 8 6 2]]\n"
     ]
    }
   ],
   "source": [
    "# find the index of nearest neightbor\n",
    "nearest = np.argsort(dist_sq, axis=1)\n",
    "print(nearest)"
   ]
  },
  {
   "cell_type": "code",
   "execution_count": 405,
   "metadata": {},
   "outputs": [
    {
     "name": "stdout",
     "output_type": "stream",
     "text": [
      "[[0 1 2 3 4 5 6 7 8 9]\n",
      " [3 4 1 9 1 8 8 9 5 7]\n",
      " [9 7 4 7 8 6 5 3 6 3]\n",
      " [7 9 6 0 5 4 4 1 4 0]\n",
      " [1 3 3 1 6 1 1 4 1 1]\n",
      " [4 6 0 4 7 7 7 0 7 4]\n",
      " [2 8 8 5 9 9 9 5 9 5]\n",
      " [5 5 9 8 3 3 3 8 3 8]\n",
      " [6 0 7 6 0 2 2 6 2 6]\n",
      " [8 2 5 2 2 0 0 2 0 2]]\n"
     ]
    }
   ],
   "source": [
    "nearest0 = np.argsort(dist_sq, axis=0)\n",
    "print(nearest0)"
   ]
  },
  {
   "cell_type": "code",
   "execution_count": 433,
   "metadata": {},
   "outputs": [
    {
     "name": "stdout",
     "output_type": "stream",
     "text": [
      "[[3 0 9 7 1 4 2 5 8 6]\n",
      " [1 4 7 9 3 5 6 2 8 0]\n",
      " [2 1 4 6 3 0 5 7 8 9]\n",
      " [3 9 7 0 1 5 6 2 8 4]\n",
      " [1 8 4 5 7 6 9 3 2 0]\n",
      " [5 8 6 4 1 7 9 3 2 0]\n",
      " [6 8 5 4 1 7 9 3 2 0]\n",
      " [7 9 3 1 4 5 6 2 8 0]\n",
      " [8 5 6 4 1 7 9 3 2 0]\n",
      " [3 9 7 0 1 5 6 2 8 4]]\n"
     ]
    }
   ],
   "source": [
    "k = 2\n",
    "nearest_partition = np.argpartition(dist_sq, k + 1, axis=1)\n",
    "print(nearest_partition)"
   ]
  },
  {
   "cell_type": "code",
   "execution_count": 434,
   "metadata": {},
   "outputs": [
    {
     "name": "stdout",
     "output_type": "stream",
     "text": [
      "[[3 1 2 3 1 5 6 7 8 3]\n",
      " [0 4 1 9 8 8 8 9 5 9]\n",
      " [9 7 4 7 4 6 5 3 6 7]\n",
      " [7 9 6 0 5 4 4 1 4 0]\n",
      " [1 3 3 1 7 1 1 4 1 1]\n",
      " [4 5 0 5 6 7 7 5 7 5]\n",
      " [2 6 5 6 9 9 9 6 9 6]\n",
      " [5 2 7 2 3 3 3 2 3 2]\n",
      " [8 8 8 8 2 2 2 8 2 8]\n",
      " [6 0 9 4 0 0 0 0 0 4]]\n"
     ]
    }
   ],
   "source": [
    "nearest_partition0 = np.argpartition(dist_sq, k + 1, axis=0)\n",
    "print(nearest_partition0)"
   ]
  },
  {
   "cell_type": "code",
   "execution_count": 443,
   "metadata": {},
   "outputs": [
    {
     "data": {
      "image/png": "[encoded data removed]",
      "text/plain": [
       "<Figure size 432x288 with 1 Axes>"
      ]
     },
     "metadata": {
      "needs_background": "light"
     },
     "output_type": "display_data"
    }
   ],
   "source": [
    "plt.scatter(y[:, 0], y[:, 1], s=100)\n",
    "# draw lines from each point to its two nearest neighbors\n",
    "K = 2\n",
    "\n",
    "for i in range(y.shape[0]):\n",
    "    for j in nearest_partition[i, :K+1]:\n",
    "        ## plot line from y[i] to y[j]\n",
    "        #plt.plot(*zip(y[j], y[i]), color='black')\n",
    "        plt.plot(*zip(y[i], y[j]), color='black')"
   ]
  },
  {
   "cell_type": "code",
   "execution_count": 436,
   "metadata": {},
   "outputs": [
    {
     "data": {
      "text/plain": [
       "array([1, 4], dtype=int64)"
      ]
     },
     "execution_count": 436,
     "metadata": {},
     "output_type": "execute_result"
    }
   ],
   "source": [
    "nearest_partition[1,:2]"
   ]
  },
  {
   "cell_type": "code",
   "execution_count": 437,
   "metadata": {},
   "outputs": [
    {
     "data": {
      "text/plain": [
       "array([1, 4, 7], dtype=int64)"
      ]
     },
     "execution_count": 437,
     "metadata": {},
     "output_type": "execute_result"
    }
   ],
   "source": [
    "nearest_partition[1, :3]"
   ]
  },
  {
   "cell_type": "code",
   "execution_count": 439,
   "metadata": {},
   "outputs": [
    {
     "data": {
      "text/plain": [
       "array([4, 7], dtype=int64)"
      ]
     },
     "execution_count": 439,
     "metadata": {},
     "output_type": "execute_result"
    }
   ],
   "source": [
    "nearest_partition[1, 1:3]"
   ]
  },
  {
   "cell_type": "code",
   "execution_count": 444,
   "metadata": {},
   "outputs": [
    {
     "name": "stdout",
     "output_type": "stream",
     "text": [
      "[('name', '<U10'), ('age', '<i4'), ('weight', '<f8')]\n"
     ]
    }
   ],
   "source": [
    "# structureed data types\n",
    "\"\"\"\n",
    "use a single structure to store all of this\n",
    "data. NumPy can handle this through structured arrays, which are arrays with com‐\n",
    "pound data types.\n",
    "\"\"\"\n",
    "name = ['Alice', 'Bob', 'Cathy', 'Doug']\n",
    "age = [25, 45, 37, 19]\n",
    "weight = [55.0, 85.5, 68.0, 61.5]\n",
    "\n",
    "# Use a compound data type for structured arrays\n",
    "data = np.zeros(4, dtype={'names':('name', 'age', 'weight'),\n",
    "                          'formats':('U10', 'i4', 'f8')})\n",
    "print(data.dtype)"
   ]
  },
  {
   "cell_type": "code",
   "execution_count": 446,
   "metadata": {},
   "outputs": [
    {
     "name": "stdout",
     "output_type": "stream",
     "text": [
      "[('Alice', 25, 55. ) ('Bob', 45, 85.5) ('Cathy', 37, 68. )\n",
      " ('Doug', 19, 61.5)]\n"
     ]
    }
   ],
   "source": [
    "data['name'] = name\n",
    "data['age'] = age\n",
    "data['weight'] = weight\n",
    "print(data)"
   ]
  },
  {
   "cell_type": "code",
   "execution_count": 447,
   "metadata": {},
   "outputs": [
    {
     "data": {
      "text/plain": [
       "array(['Alice', 'Bob', 'Cathy', 'Doug'], dtype='<U10')"
      ]
     },
     "execution_count": 447,
     "metadata": {},
     "output_type": "execute_result"
    }
   ],
   "source": [
    "# get all names\n",
    "data['name']"
   ]
  },
  {
   "cell_type": "code",
   "execution_count": 448,
   "metadata": {},
   "outputs": [
    {
     "data": {
      "text/plain": [
       "('Alice', 25, 55.)"
      ]
     },
     "execution_count": 448,
     "metadata": {},
     "output_type": "execute_result"
    }
   ],
   "source": [
    "# first row of the data\n",
    "data[0]"
   ]
  },
  {
   "cell_type": "code",
   "execution_count": 450,
   "metadata": {},
   "outputs": [
    {
     "data": {
      "text/plain": [
       "4"
      ]
     },
     "execution_count": 450,
     "metadata": {},
     "output_type": "execute_result"
    }
   ],
   "source": [
    "data.size"
   ]
  },
  {
   "cell_type": "code",
   "execution_count": 455,
   "metadata": {},
   "outputs": [
    {
     "data": {
      "text/plain": [
       "'Doug'"
      ]
     },
     "execution_count": 455,
     "metadata": {},
     "output_type": "execute_result"
    }
   ],
   "source": [
    "data[-1]['name']   # get the name of last row in data"
   ]
  },
  {
   "cell_type": "code",
   "execution_count": 456,
   "metadata": {},
   "outputs": [
    {
     "data": {
      "text/plain": [
       "array(['Alice', 'Doug'], dtype='<U10')"
      ]
     },
     "execution_count": 456,
     "metadata": {},
     "output_type": "execute_result"
    }
   ],
   "source": [
    "# get names where age < 30\n",
    "data[data['age'] < 30]['name']"
   ]
  },
  {
   "cell_type": "code",
   "execution_count": 457,
   "metadata": {},
   "outputs": [
    {
     "data": {
      "text/plain": [
       "dtype([('name', '<U10'), ('age', '<i4'), ('weight', '<f8')])"
      ]
     },
     "execution_count": 457,
     "metadata": {},
     "output_type": "execute_result"
    }
   ],
   "source": [
    "## other ways to create structure array\n",
    "np.dtype({'names': ('name', 'age', 'weight'),\n",
    "          'formats': ('U10', 'i4', 'f8')})"
   ]
  },
  {
   "cell_type": "code",
   "execution_count": 458,
   "metadata": {},
   "outputs": [
    {
     "data": {
      "text/plain": [
       "dtype([('name', '<U10'), ('age', '<i4'), ('weight', '<f4')])"
      ]
     },
     "execution_count": 458,
     "metadata": {},
     "output_type": "execute_result"
    }
   ],
   "source": [
    "np.dtype({'names': ('name', 'age', 'weight'),\n",
    "        'formats': ((np.str_, 10), int, np.float32)})"
   ]
  },
  {
   "cell_type": "code",
   "execution_count": 459,
   "metadata": {},
   "outputs": [
    {
     "data": {
      "text/plain": [
       "dtype([('name', 'S10'), ('age', '<i4'), ('weight', '<f8')])"
      ]
     },
     "execution_count": 459,
     "metadata": {},
     "output_type": "execute_result"
    }
   ],
   "source": [
    "np.dtype([('name', 'S10'), ('age', 'i4'), ('weight', 'f8')])"
   ]
  },
  {
   "cell_type": "code",
   "execution_count": 460,
   "metadata": {},
   "outputs": [
    {
     "data": {
      "text/plain": [
       "dtype([('f0', 'S10'), ('f1', '<i4'), ('f2', '<f8')])"
      ]
     },
     "execution_count": 460,
     "metadata": {},
     "output_type": "execute_result"
    }
   ],
   "source": [
    "# If the names of the types do not matter to you, \n",
    "# you can specify the types alone in a comma-separated string:\n",
    "np.dtype('S10,i4,f8')"
   ]
  },
  {
   "cell_type": "code",
   "execution_count": 463,
   "metadata": {},
   "outputs": [
    {
     "name": "stdout",
     "output_type": "stream",
     "text": [
      "[(b'', 0, 0.) (b'', 0, 0.) (b'', 0, 0.) (b'', 0, 0.)]\n",
      "[('f0', 'S10'), ('f1', '<i4'), ('f2', '<f8')]\n"
     ]
    }
   ],
   "source": [
    "d = np.zeros(4, np.dtype('S10,i4,f8'))\n",
    "print(d)\n",
    "print(d.dtype)"
   ]
  },
  {
   "cell_type": "code",
   "execution_count": 466,
   "metadata": {},
   "outputs": [
    {
     "name": "stdout",
     "output_type": "stream",
     "text": [
      "[(b'Alice', 25, 55. ) (b'Bob', 45, 85.5) (b'Cathy', 37, 68. )\n",
      " (b'Doug', 19, 61.5)]\n",
      "\n",
      "\n",
      "[('Alice', 25, 55. ) ('Bob', 45, 85.5) ('Cathy', 37, 68. )\n",
      " ('Doug', 19, 61.5)]\n"
     ]
    }
   ],
   "source": [
    "d['f0'] = name\n",
    "d['f1'] = age\n",
    "d['f2'] = weight\n",
    "print(d)\n",
    "print('\\n')\n",
    "print(data)"
   ]
  },
  {
   "cell_type": "code",
   "execution_count": null,
   "metadata": {},
   "outputs": [],
   "source": [
    "\"\"\"\n",
    "NumPy data types\n",
    "\n",
    "Character      Description                    Example\n",
    "'b'            Byte                           np.dtype('b')\n",
    "'i'            Signed integer                 np.dtype('i4') == np.int32\n",
    "'u'            Unsigned integer               np.dtype('u1') == np.uint8\n",
    "'f'            Floating point                 np.dtype('f8') == np.int64\n",
    "'c'            Complex floating point         np.dtype('c16') == np.complex128\n",
    "'S', 'a'       string                         np.dtype('S5')\n",
    "'U'            Unicode                        string np.dtype('U') == np.str_\n",
    "'V'            Raw data                       (void) np.dtype('V') == np.void\n",
    "\n",
    "\"\"\""
   ]
  },
  {
   "cell_type": "code",
   "execution_count": 473,
   "metadata": {},
   "outputs": [
    {
     "name": "stdout",
     "output_type": "stream",
     "text": [
      "[('id', '<i8'), ('mat', '<f8', (3, 3))]\n",
      "\n",
      "\n",
      "(0, [[0., 0., 0.], [0., 0., 0.], [0., 0., 0.]])\n",
      "\n",
      "\n",
      "[[[0. 0. 0.]\n",
      "  [0. 0. 0.]\n",
      "  [0. 0. 0.]]\n",
      "\n",
      " [[0. 0. 0.]\n",
      "  [0. 0. 0.]\n",
      "  [0. 0. 0.]]\n",
      "\n",
      " [[0. 0. 0.]\n",
      "  [0. 0. 0.]\n",
      "  [0. 0. 0.]]]\n",
      "\n",
      "\n",
      "[0 0 0]\n"
     ]
    }
   ],
   "source": [
    "tp = np.dtype([('id', 'i8'), ('mat', 'f8', (3, 3))])\n",
    "x_tp = np.zeros(3, dtype=tp)\n",
    "print(x_tp.dtype)\n",
    "print('\\n')\n",
    "print(x_tp[0])\n",
    "print('\\n')\n",
    "print(x_tp['mat'])\n",
    "print('\\n')\n",
    "print(x_tp['id'])"
   ]
  },
  {
   "cell_type": "code",
   "execution_count": 474,
   "metadata": {},
   "outputs": [
    {
     "data": {
      "text/plain": [
       "array(['Alice', 'Bob', 'Cathy', 'Doug'], dtype='<U10')"
      ]
     },
     "execution_count": 474,
     "metadata": {},
     "output_type": "execute_result"
    }
   ],
   "source": [
    "# If we view our data as a record array instead,\n",
    "# we can access this with slightly fewer keystrokes:\n",
    "data_rec = data.view(np.recarray)\n",
    "data_rec.name"
   ]
  },
  {
   "cell_type": "code",
   "execution_count": 475,
   "metadata": {},
   "outputs": [
    {
     "data": {
      "text/plain": [
       "array(['Alice', 'Bob', 'Cathy', 'Doug'], dtype='<U10')"
      ]
     },
     "execution_count": 475,
     "metadata": {},
     "output_type": "execute_result"
    }
   ],
   "source": [
    "data['name']"
   ]
  },
  {
   "cell_type": "code",
   "execution_count": 478,
   "metadata": {},
   "outputs": [
    {
     "name": "stdout",
     "output_type": "stream",
     "text": [
      "184 ns ± 23.9 ns per loop (mean ± std. dev. of 7 runs, 1000000 loops each)\n",
      "3.83 µs ± 123 ns per loop (mean ± std. dev. of 7 runs, 100000 loops each)\n",
      "2.78 µs ± 49.9 ns per loop (mean ± std. dev. of 7 runs, 100000 loops each)\n"
     ]
    }
   ],
   "source": [
    "%timeit data['age']\n",
    "%timeit data_rec.age\n",
    "%timeit data_rec['age']"
   ]
  }
 ],
 "metadata": {
  "kernelspec": {
   "display_name": "Python 3",
   "language": "python",
   "name": "python3"
  },
  "language_info": {
   "codemirror_mode": {
    "name": "ipython",
    "version": 3
   },
   "file_extension": ".py",
   "mimetype": "text/x-python",
   "name": "python",
   "nbconvert_exporter": "python",
   "pygments_lexer": "ipython3",
   "version": "3.7.2"
  }
 },
 "nbformat": 4,
 "nbformat_minor": 2
}
